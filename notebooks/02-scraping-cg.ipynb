{
 "cells": [
  {
   "cell_type": "markdown",
   "metadata": {},
   "source": [
    "---\n",
    "jupyter: python3\n",
    "---"
   ]
  },
  {
   "cell_type": "code",
   "execution_count": 1,
   "metadata": {},
   "outputs": [],
   "source": [
    "import os\n",
    "\n",
    "from CryptoFraudDetection.scraper.twitter import TwitterScraper\n",
    "from CryptoFraudDetection.scraper.google_results import GoogleResultsScraper\n",
    "from CryptoFraudDetection.scraper.comparitech import ComparitechScraper\n",
    "from CryptoFraudDetection.utils.logger import Logger\n",
    "from CryptoFraudDetection.elasticsearch.data_insertion import insert_dict\n",
    "from CryptoFraudDetection.elasticsearch.data_retrieval import search_data\n",
    "\n",
    "logger_ = Logger(\"logger\")"
   ]
  },
  {
   "cell_type": "code",
   "execution_count": 2,
   "metadata": {},
   "outputs": [],
   "source": [
    "twitter_scraper = TwitterScraper(\n",
    "    logger=logger_,\n",
    "    username=os.getenv(\"TWITTER_USERNAME\"),\n",
    "    password=os.getenv(\"TWITTER_PASSWORD\"),\n",
    "    cookies_file_path=\"../data/raw/cookies/x.json\",\n",
    ")\n",
    "\n",
    "google_results_scraper = GoogleResultsScraper(\n",
    "    logger=logger_,\n",
    ")\n",
    "\n",
    "comparitech_scraper = ComparitechScraper(\n",
    "    logger=logger_,\n",
    ")"
   ]
  },
  {
   "cell_type": "code",
   "execution_count": 3,
   "metadata": {},
   "outputs": [
    {
     "name": "stderr",
     "output_type": "stream",
     "text": [
      "2024-11-06 11:22:04,530 - logger - INFO - Cookies successfully loaded from ../data/raw/cookies/x.json\n",
      "2024-11-06 11:22:26,697 - logger - DEBUG - Page title after loading cookies and navigating to Explore: (9) Log in to X / X\n",
      "2024-11-06 11:22:26,813 - logger - DEBUG - Close button clicked successfully.\n",
      "2024-11-06 11:22:27,641 - logger - INFO - Searched for: Bitcoin\n",
      "2024-11-06 11:22:38,359 - logger - INFO - Scraped tweet 1/3\n",
      "2024-11-06 11:22:38,445 - logger - INFO - Scraped tweet 2/3\n",
      "2024-11-06 11:22:45,672 - logger - INFO - Scraped tweet 3/3\n",
      "2024-11-06 11:22:45,732 - logger - INFO - Scraped tweet 4/3\n",
      "2024-11-06 11:22:45,784 - logger - INFO - Scraped tweet 5/3\n",
      "2024-11-06 11:22:45,834 - logger - INFO - Scraped tweet 6/3\n",
      "2024-11-06 11:22:45,933 - logger - INFO - Scraped tweet 7/3\n",
      "2024-11-06 11:22:45,981 - logger - INFO - Scraped tweet 8/3\n",
      "2024-11-06 11:22:46,028 - logger - INFO - Scraped tweet 9/3\n",
      "2024-11-06 11:22:51,688 - logger - DEBUG - Tweets scraped into dictionary.\n"
     ]
    }
   ],
   "source": [
    "dict_test = twitter_scraper.scrape_with_cookies(tweet_count=3, headless=False)"
   ]
  },
  {
   "cell_type": "code",
   "execution_count": 4,
   "metadata": {},
   "outputs": [
    {
     "data": {
      "text/plain": [
       "(9, [])"
      ]
     },
     "execution_count": 4,
     "metadata": {},
     "output_type": "execute_result"
    }
   ],
   "source": [
    "insert_dict(logger_, 'x', dict_test)"
   ]
  }
 ],
 "metadata": {
  "kernelspec": {
   "display_name": ".venv",
   "language": "python",
   "name": "python3"
  },
  "language_info": {
   "codemirror_mode": {
    "name": "ipython",
    "version": 3
   },
   "file_extension": ".py",
   "mimetype": "text/x-python",
   "name": "python",
   "nbconvert_exporter": "python",
   "pygments_lexer": "ipython3",
   "version": "3.12.2"
  }
 },
 "nbformat": 4,
 "nbformat_minor": 4
}
