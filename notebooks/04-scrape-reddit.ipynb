{
 "cells": [
  {
   "metadata": {
    "ExecuteTime": {
     "end_time": "2024-10-03T13:15:53.278162Z",
     "start_time": "2024-10-03T13:15:53.260535Z"
    }
   },
   "cell_type": "code",
   "source": [
    "from selenium import webdriver\n",
    "from selenium.webdriver.firefox.options import Options\n",
    "from selenium.webdriver.common.by import By\n",
    "from selenium.webdriver.support.ui import WebDriverWait\n",
    "from selenium.webdriver.support import expected_conditions as EC\n",
    "from selenium.common.exceptions import TimeoutException\n",
    "import time"
   ],
   "id": "86dbe5d96f7dd892",
   "outputs": [],
   "execution_count": 22
  },
  {
   "metadata": {
    "ExecuteTime": {
     "end_time": "2024-10-03T13:22:51.794269Z",
     "start_time": "2024-10-03T13:22:51.787731Z"
    }
   },
   "cell_type": "code",
   "source": [
    "def handle_consent(driver):\n",
    "    try:\n",
    "        # Warte auf das Consent-Pop-up und klicke auf \"Alle akzeptieren\"\n",
    "        consent_button = WebDriverWait(driver, 10).until(\n",
    "            EC.element_to_be_clickable(\n",
    "                (By.XPATH, '//button[contains(text(), \"Alle akzeptieren\") or contains(text(), \"Accept All\") or contains(text(), \"Nicht-essentielle ablehnen\")]')\n",
    "            )\n",
    "        )\n",
    "        consent_button.click()\n",
    "    except TimeoutException:\n",
    "        print(\"Kein Consent-Pop-up gefunden oder bereits akzeptiert.\")\n",
    "\n",
    "def search_reddit(subreddit, term):\n",
    "    # Erstelle die Such-URL\n",
    "    search_url = f\"https://www.reddit.com/r/{subreddit}/search/?q={term}&restrict_sr=1\"\n",
    "    driver.get(search_url)\n",
    "\n",
    "    # Consent-Pop-up behandeln\n",
    "    handle_consent(driver)\n",
    "\n",
    "    # Warte, bis die Beiträge geladen sind\n",
    "    try:\n",
    "        posts_loaded = WebDriverWait(driver, 10).until(\n",
    "            EC.presence_of_all_elements_located((By.CSS_SELECTOR, 'div[data-testid=\"post-container\"]'))\n",
    "        )\n",
    "        time.sleep(10)\n",
    "    except TimeoutException:\n",
    "        print(\"Beiträge wurden nicht geladen.\")\n",
    "        return\n",
    "\n",
    "    # Scrollen, um mehr Beiträge zu laden\n",
    "    for _ in range(3):\n",
    "        driver.execute_script(\"window.scrollTo(0, document.body.scrollHeight);\")\n",
    "        time.sleep(2)\n",
    "\n",
    "    # Suche nach allen Beiträgen\n",
    "    post_containers = driver.find_elements(By.CSS_SELECTOR, 'div[data-testid=\"post-container\"]')\n",
    "\n",
    "    # Gib die Titel der Beiträge aus\n",
    "    print(f\"\\nBeiträge über '{term}' im Subreddit r/{subreddit}:\")\n",
    "    for idx, post in enumerate(post_containers, 1):\n",
    "        try:\n",
    "            title_element = post.find_element(By.CSS_SELECTOR, 'h3')\n",
    "            print(f\"{idx}. {title_element.text}\")\n",
    "        except:\n",
    "            continue  # Falls kein Titel gefunden wurde\n",
    "\n",
    "\n"
   ],
   "id": "6cca9cac788ebdfc",
   "outputs": [],
   "execution_count": 25
  },
  {
   "metadata": {
    "ExecuteTime": {
     "end_time": "2024-10-03T13:24:16.119783Z",
     "start_time": "2024-10-03T13:23:42.222261Z"
    }
   },
   "cell_type": "code",
   "source": [
    "# Firefox-Browser starten mit Optionen\n",
    "options = Options()\n",
    "# options.headless = True  # Wenn du keinen Browser sehen möchtest\n",
    "driver = webdriver.Firefox(options=options)\n",
    "\n",
    "# Hauptprogramm\n",
    "try:\n",
    "    # Suche nach Beiträgen\n",
    "    search_reddit('CryptoCurrency', 'terra luna')\n",
    "finally:   \n",
    "    driver.quit()\n"
   ],
   "id": "3cce2d8f775a6d01",
   "outputs": [
    {
     "name": "stdout",
     "output_type": "stream",
     "text": [
      "Kein Consent-Pop-up gefunden oder bereits akzeptiert.\n",
      "Beiträge wurden nicht geladen.\n"
     ]
    }
   ],
   "execution_count": 27
  },
  {
   "metadata": {
    "ExecuteTime": {
     "end_time": "2024-10-03T13:16:27.117623Z",
     "start_time": "2024-10-03T13:16:27.109940Z"
    }
   },
   "cell_type": "code",
   "source": "",
   "id": "44d2620268d94eb",
   "outputs": [],
   "execution_count": 24
  }
 ],
 "metadata": {
  "kernelspec": {
   "display_name": "Python 3",
   "language": "python",
   "name": "python3"
  },
  "language_info": {
   "codemirror_mode": {
    "name": "ipython",
    "version": 2
   },
   "file_extension": ".py",
   "mimetype": "text/x-python",
   "name": "python",
   "nbconvert_exporter": "python",
   "pygments_lexer": "ipython2",
   "version": "2.7.6"
  }
 },
 "nbformat": 4,
 "nbformat_minor": 5
}
