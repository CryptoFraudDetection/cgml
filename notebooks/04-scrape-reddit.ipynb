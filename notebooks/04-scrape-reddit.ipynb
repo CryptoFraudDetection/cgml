{
 "cells": [
  {
   "metadata": {
    "ExecuteTime": {
     "end_time": "2024-10-03T13:47:57.584438Z",
     "start_time": "2024-10-03T13:47:19.570145Z"
    }
   },
   "cell_type": "code",
   "source": [
    "from selenium import webdriver\n",
    "from selenium.webdriver.common.by import By\n",
    "from selenium.webdriver.common.keys import Keys\n",
    "import time\n",
    "import pandas as pd\n",
    "\n",
    "driver = webdriver.Firefox()\n",
    "\n",
    "# URL des CryptoCurrency Subreddits\n",
    "url = \"https://www.reddit.com/r/CryptoCurrency/\"\n",
    "\n",
    "# Öffne den Subreddit\n",
    "driver.get(url)\n",
    "\n",
    "# Warte ein bisschen, um sicherzustellen, dass die Seite vollständig geladen ist\n",
    "time.sleep(3)\n",
    "\n",
    "# Suche nach Terra Luna auf der Seite\n",
    "search_input = driver.find_element(By.TAG_NAME, 'input')  # Suche nach dem Suchfeld auf Reddit\n",
    "search_input.send_keys(\"Terra Luna\")  # Suchbegriff eingeben\n",
    "search_input.send_keys(Keys.RETURN)  # Enter drücken\n",
    "\n",
    "time.sleep(3)\n",
    "\n",
    "# Scrollen und Beiträge sammeln\n",
    "post_titles = []\n",
    "post_links = []\n",
    "post_dates = []\n",
    "\n",
    "def scroll_down():\n",
    "    driver.execute_script(\"window.scrollTo(0, document.body.scrollHeight);\")\n",
    "    time.sleep(3)  # Warte ein bisschen, damit neue Beiträge geladen werden\n",
    "\n",
    "# Scraping Schleife\n",
    "scrolls = 5  # Wie oft nach unten gescrollt werden soll\n",
    "for _ in range(scrolls):\n",
    "    posts = driver.find_elements(By.CSS_SELECTOR, \"div.Post\")\n",
    "    for post in posts:\n",
    "        try:\n",
    "            title = post.find_element(By.CSS_SELECTOR, \"h3\").text\n",
    "            link = post.find_element(By.CSS_SELECTOR, \"a\").get_attribute(\"href\")\n",
    "            date = post.find_element(By.CSS_SELECTOR, \"span[data-testid='post_timestamp']\").text\n",
    "            \n",
    "            if \"Terra Luna\" in title:\n",
    "                post_titles.append(title)\n",
    "                post_links.append(link)\n",
    "                post_dates.append(date)\n",
    "        except:\n",
    "            continue\n",
    "    \n",
    "    scroll_down()\n",
    "\n",
    "# Schließe den Browser\n",
    "driver.quit()\n",
    "\n",
    "# Speichere die Daten in einem DataFrame\n",
    "df = pd.DataFrame({\n",
    "    'Titel': post_titles,\n",
    "    'Link': post_links,\n",
    "    'Datum': post_dates\n",
    "})\n",
    "\n",
    "\n",
    "\n",
    "df\n"
   ],
   "id": "44d2620268d94eb",
   "outputs": [
    {
     "data": {
      "text/plain": [
       "Empty DataFrame\n",
       "Columns: [Titel, Link, Datum]\n",
       "Index: []"
      ],
      "text/html": [
       "<div>\n",
       "<style scoped>\n",
       "    .dataframe tbody tr th:only-of-type {\n",
       "        vertical-align: middle;\n",
       "    }\n",
       "\n",
       "    .dataframe tbody tr th {\n",
       "        vertical-align: top;\n",
       "    }\n",
       "\n",
       "    .dataframe thead th {\n",
       "        text-align: right;\n",
       "    }\n",
       "</style>\n",
       "<table border=\"1\" class=\"dataframe\">\n",
       "  <thead>\n",
       "    <tr style=\"text-align: right;\">\n",
       "      <th></th>\n",
       "      <th>Titel</th>\n",
       "      <th>Link</th>\n",
       "      <th>Datum</th>\n",
       "    </tr>\n",
       "  </thead>\n",
       "  <tbody>\n",
       "  </tbody>\n",
       "</table>\n",
       "</div>"
      ]
     },
     "execution_count": 35,
     "metadata": {},
     "output_type": "execute_result"
    }
   ],
   "execution_count": 35
  },
  {
   "metadata": {},
   "cell_type": "code",
   "outputs": [],
   "execution_count": null,
   "source": "",
   "id": "c42fa32c4eb3708d"
  }
 ],
 "metadata": {
  "kernelspec": {
   "display_name": "Python 3",
   "language": "python",
   "name": "python3"
  },
  "language_info": {
   "codemirror_mode": {
    "name": "ipython",
    "version": 2
   },
   "file_extension": ".py",
   "mimetype": "text/x-python",
   "name": "python",
   "nbconvert_exporter": "python",
   "pygments_lexer": "ipython2",
   "version": "2.7.6"
  }
 },
 "nbformat": 4,
 "nbformat_minor": 5
}
