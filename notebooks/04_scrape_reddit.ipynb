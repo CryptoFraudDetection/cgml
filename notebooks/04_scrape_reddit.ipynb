{
 "cells": [
  {
   "metadata": {
    "ExecuteTime": {
     "end_time": "2024-10-03T11:46:08.043077Z",
     "start_time": "2024-10-03T11:46:08.021231Z"
    }
   },
   "cell_type": "code",
   "source": [
    "from selenium import webdriver\n",
    "from selenium.webdriver.firefox.service import Service\n",
    "from selenium.webdriver.common.by import By\n",
    "from selenium.webdriver.firefox.options import Options\n",
    "import time"
   ],
   "id": "86dbe5d96f7dd892",
   "outputs": [],
   "execution_count": 5
  },
  {
   "metadata": {
    "ExecuteTime": {
     "end_time": "2024-10-03T12:33:38.902528Z",
     "start_time": "2024-10-03T12:33:38.894401Z"
    }
   },
   "cell_type": "code",
   "source": [
    "# Warte, bis die Seite geladen ist\n",
    "def search_reddit(subreddit,term):\n",
    "    search_query = f'https://www.reddit.com/r/{subreddit}/search/?q={term}'\n",
    "    driver.get(search_query)\n",
    "    \n",
    "    # Warte, bis die Ergebnisse geladen sind\n",
    "    time.sleep(5)\n",
    "    \n",
    "    # Scrollen, um mehr Inhalte zu laden (optional)\n",
    "    for _ in range(3):  # Anzahl der Scroll-Vorgänge, um mehr Beiträge zu laden\n",
    "        driver.execute_script(\"window.scrollTo(0, document.body.scrollHeight);\")\n",
    "        time.sleep(3)\n",
    "    \n",
    "    # Suche nach allen Beitragstiteln auf der Seite\n",
    "    posts = driver.find_elements(By.CSS_SELECTOR, 'h3')\n",
    "    \n",
    "    # Gib die Titel der Beiträge aus\n",
    "    print(f\"\\nBeiträge über {term}:\")\n",
    "    for idx, post in enumerate(posts, 1):\n",
    "        print(f'{idx}. {post.text}')\n"
   ],
   "id": "6cca9cac788ebdfc",
   "outputs": [],
   "execution_count": 20
  },
  {
   "metadata": {
    "ExecuteTime": {
     "end_time": "2024-10-03T12:35:32.089368Z",
     "start_time": "2024-10-03T12:34:57.002737Z"
    }
   },
   "cell_type": "code",
   "source": [
    "# Firefox-Browser starten\n",
    "driver = webdriver.Firefox()\n",
    "\n",
    "# Öffne eine Webseite (z.B. Google)\n",
    "driver.get(r'https://www.reddit.com/')\n",
    "\n",
    "print(driver.title)\n",
    "search_reddit('CryptoCurrency','terra+luna')\n",
    "\n",
    "# Browser schließen\n",
    "driver.quit()"
   ],
   "id": "3cce2d8f775a6d01",
   "outputs": [
    {
     "name": "stdout",
     "output_type": "stream",
     "text": [
      "Reddit – Entdecke ohne Ende\n",
      "\n",
      "Beiträge über terra+luna:\n",
      "1. \n"
     ]
    }
   ],
   "execution_count": 21
  },
  {
   "metadata": {},
   "cell_type": "code",
   "outputs": [],
   "execution_count": null,
   "source": "",
   "id": "44d2620268d94eb"
  }
 ],
 "metadata": {
  "kernelspec": {
   "display_name": "Python 3",
   "language": "python",
   "name": "python3"
  },
  "language_info": {
   "codemirror_mode": {
    "name": "ipython",
    "version": 2
   },
   "file_extension": ".py",
   "mimetype": "text/x-python",
   "name": "python",
   "nbconvert_exporter": "python",
   "pygments_lexer": "ipython2",
   "version": "2.7.6"
  }
 },
 "nbformat": 4,
 "nbformat_minor": 5
}
