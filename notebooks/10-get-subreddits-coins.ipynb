{
  "cells": [
    {
      "cell_type": "markdown",
      "metadata": {},
      "source": [
        "---\n",
        "jupyter: python3\n",
        "---\n",
        "\n",
        "This notebooks was used to find out which subreddits are most associated with each coin."
      ]
    },
    {
      "cell_type": "code",
      "execution_count": null,
      "metadata": {},
      "outputs": [],
      "source": [
        "import os\n",
        "import praw\n",
        "from collections import Counter\n",
        "from datetime import datetime, timezone\n",
        "\n",
        "from dotenv import load_dotenv, find_dotenv\n",
        "import pandas as pd\n",
        "\n",
        "# Load environment variables\n",
        "dotenv_path = find_dotenv()\n",
        "if dotenv_path and os.getenv(\"REDDIT_CLIENT_ID\") is None:\n",
        "    load_dotenv(dotenv_path)\n",
        "\n",
        "# Initialize the Reddit API client\n",
        "reddit = praw.Reddit(\n",
        "    client_id=os.getenv(\"REDDIT_CLIENT_ID\"),\n",
        "    client_secret=os.getenv(\"REDDIT_CLIENT_SECRET\"),\n",
        "    user_agent=os.getenv(\"REDDIT_USER_AGENT\"),\n",
        ")\n",
        "\n",
        "coins = pd.read_csv(\"../data/raw/labeled_coins.csv\")"
      ]
    },
    {
      "cell_type": "code",
      "execution_count": null,
      "metadata": {},
      "outputs": [],
      "source": [
        "list_coins = []\n",
        "for _, coin in coins.iterrows():\n",
        "    # Define your search term and date limit\n",
        "    search_term = coin[\"Coin Name\"]\n",
        "    before_date = coin[\"Scam Date\"]\n",
        "    print(f\"Searching for posts about '{search_term}' before {before_date}...\")\n",
        "    # Counter to store subreddit counts\n",
        "    subreddit_counts = Counter()\n",
        "\n",
        "    # Perform the search\n",
        "    try:\n",
        "        for submission in reddit.subreddit(\"all\").search(search_term, time_filter=\"all\", limit=10000):\n",
        "            if str(before_date) == \"nan\":\n",
        "                before_date = datetime.now().strftime(\"%Y-%m-%d\")\n",
        "\n",
        "            submission_date = datetime.fromtimestamp(submission.created_utc, timezone.utc).strftime(\"%Y-%m-%d\")\n",
        "            if submission_date <= before_date:  # Only include posts before the specified date\n",
        "                subreddit_counts[submission.subreddit.display_name] += 1\n",
        "    except Exception as e:\n",
        "        print(f\"An error occurred: {e}\")\n",
        "\n",
        "    # Get top subreddits by count\n",
        "    top_subreddits = subreddit_counts.most_common(10)  # Adjust the number as needed\n",
        "    print(f\"Top subreddits for the coin '{search_term} until {before_date}':\")\n",
        "    temp = []\n",
        "    for subreddit, count in top_subreddits:\n",
        "        print(f\"r/{subreddit}\\t\\t{count} results\")\n",
        "        temp.append(subreddit)\n",
        "\n",
        "    list_coins.append({\"coin\": search_term, \"subreddits\": temp})\n",
        "\n",
        "    print(\"\\n\")"
      ]
    },
    {
      "cell_type": "code",
      "execution_count": null,
      "metadata": {},
      "outputs": [],
      "source": [
        "print(list_coins)"
      ]
    }
  ],
  "metadata": {
    "kernelspec": {
      "display_name": ".venv",
      "language": "python",
      "name": "python3"
    },
    "language_info": {
      "codemirror_mode": {
        "name": "ipython",
        "version": 3
      },
      "file_extension": ".py",
      "mimetype": "text/x-python",
      "name": "python",
      "nbconvert_exporter": "python",
      "pygments_lexer": "ipython3",
      "version": "3.12.8"
    }
  },
  "nbformat": 4,
  "nbformat_minor": 4
}
