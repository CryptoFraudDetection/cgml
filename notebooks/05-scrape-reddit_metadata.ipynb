{
 "cells": [
  {
   "cell_type": "markdown",
   "metadata": {},
   "source": [
    "---\n",
    "jupyter: python3\n",
    "title: Scrape Reddit Posts\n",
    "---\n",
    "\n",
    "# Reddit Metat Data Scraper\n",
    "\n",
    "## Setup"
   ]
  },
  {
   "cell_type": "code",
   "execution_count": 1,
   "metadata": {},
   "outputs": [],
   "source": [
    "import pandas as pd\n",
    "\n",
    "from CryptoFraudDetection.utils.enums import ScraperNotebookMode, LoggerMode\n",
    "from CryptoFraudDetection.utils.logger import Logger\n",
    "from CryptoFraudDetection.scraper.reddit import RedditScraper, scrape_reddit\n",
    "from CryptoFraudDetection.elasticsearch.data_insertion import insert_dataframe"
   ]
  },
  {
   "cell_type": "code",
   "execution_count": 2,
   "metadata": {},
   "outputs": [],
   "source": [
    "logger = Logger(name=\"scrape_reddit\", level=LoggerMode.DEBUG, log_dir=\"../logs\")\n",
    "\n",
    "MODE=ScraperNotebookMode.WRITE"
   ]
  },
  {
   "cell_type": "code",
   "execution_count": 3,
   "metadata": {},
   "outputs": [
    {
     "name": "stderr",
     "output_type": "stream",
     "text": [
      "2024-11-06 20:26:18,684 - scrape_reddit - INFO - WebDriver session started.\n"
     ]
    }
   ],
   "source": [
    "reddit_scraper = RedditScraper(logger)\n",
    "reddit_scraper.start_driver()"
   ]
  },
  {
   "cell_type": "markdown",
   "metadata": {},
   "source": [
    "## Find Post IDs for Fraud Coins"
   ]
  },
  {
   "cell_type": "markdown",
   "metadata": {},
   "source": [
    "### Find Terra Luna Post ID Just Before Date x in Subreddit CryptoCurrency"
   ]
  },
  {
   "cell_type": "code",
   "execution_count": 4,
   "metadata": {},
   "outputs": [],
   "source": [
    "terra_luna_date = \"2024-01-01\""
   ]
  },
  {
   "cell_type": "code",
   "execution_count": 5,
   "metadata": {},
   "outputs": [
    {
     "name": "stderr",
     "output_type": "stream",
     "text": [
      "2024-11-06 20:26:22,305 - scrape_reddit - INFO - Loading URL: https://old.reddit.com/r/CryptoCurrency/search?q=Terra+Luna&restrict_sr=on&sort=new&t=all&limit=100\n"
     ]
    }
   ],
   "source": [
    "post_list = reddit_scraper.get_multipage_post_list('r/CryptoCurrency','Terra+Luna', limit=1_000, start_date=terra_luna_date)"
   ]
  },
  {
   "cell_type": "code",
   "execution_count": 6,
   "metadata": {},
   "outputs": [
    {
     "name": "stdout",
     "output_type": "stream",
     "text": [
      "{'id': 't3_18p7sc7', 'title': 'What ever happened to Do Kwon?', 'url': 'https://old.reddit.com/r/CryptoCurrency/comments/18p7sc7/what_ever_happened_to_do_kwon/', 'num_comment': '139', 'date': '2023-12-23T15:18:49+00:00', 'author': 'JGoldz75', 'author_url': 'https://old.reddit.com/user/JGoldz75', 'score': ('310',), 'subreddit': 'r/CryptoCurrency', 'search_query': 'Terra+Luna'}\n"
     ]
    }
   ],
   "source": [
    "for post in post_list:\n",
    "    if pd.to_datetime(post['date']).tz_localize(None) < pd.Timestamp(terra_luna_date):\n",
    "        print(post)\n",
    "        break"
   ]
  },
  {
   "cell_type": "markdown",
   "metadata": {},
   "source": [
    "### Find Bitcoin Post ID Just Before Date x in Subreddit CryptoCurrency"
   ]
  },
  {
   "cell_type": "code",
   "execution_count": 7,
   "metadata": {},
   "outputs": [],
   "source": [
    "btc_date = \"2024-01-01\""
   ]
  },
  {
   "cell_type": "code",
   "execution_count": null,
   "metadata": {},
   "outputs": [
    {
     "name": "stderr",
     "output_type": "stream",
     "text": [
      "2024-11-06 20:37:50,929 - scrape_reddit - INFO - Loading URL: https://old.reddit.com/r/CryptoCurrency/search?q=Bitcoin&restrict_sr=on&sort=new&t=all&limit=100\n",
      "2024-11-06 20:38:21,846 - scrape_reddit - INFO - Loading URL: https://old.reddit.com/r/CryptoCurrency/search?q=Bitcoin&restrict_sr=on&sort=new&t=all&limit=100&after=t3_1gc3r6y\n",
      "2024-11-06 20:38:30,350 - scrape_reddit - INFO - Loading URL: https://old.reddit.com/r/CryptoCurrency/search?q=Bitcoin&restrict_sr=on&sort=new&t=all&limit=100&after=t3_1g1eute\n",
      "2024-11-06 20:38:45,255 - scrape_reddit - INFO - Loading URL: https://old.reddit.com/r/CryptoCurrency/search?q=Bitcoin&restrict_sr=on&sort=new&t=all&limit=100&after=t3_1fw7z1t\n",
      "2024-11-06 20:38:55,608 - scrape_reddit - ERROR - Timeout waiting for element with locator: ('xpath', '//div[contains(@class, \"search-result-link\")]')\n"
     ]
    }
   ],
   "source": [
    "post_list = reddit_scraper.get_multipage_post_list('r/CryptoCurrency','Bitcoin', limit=1_000, start_date=btc_date)"
   ]
  },
  {
   "cell_type": "code",
   "execution_count": null,
   "metadata": {},
   "outputs": [],
   "source": [
    "for post in post_list:\n",
    "    if pd.to_datetime(post['date']).tz_localize(None) < pd.Timestamp(btc_date):\n",
    "        print(post)\n",
    "        break"
   ]
  }
 ],
 "metadata": {
  "kernelspec": {
   "display_name": "cx312",
   "language": "python",
   "name": "python3"
  },
  "language_info": {
   "codemirror_mode": {
    "name": "ipython",
    "version": 3
   },
   "file_extension": ".py",
   "mimetype": "text/x-python",
   "name": "python",
   "nbconvert_exporter": "python",
   "pygments_lexer": "ipython3",
   "version": "3.12.6"
  }
 },
 "nbformat": 4,
 "nbformat_minor": 4
}
