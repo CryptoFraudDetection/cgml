{
  "cells": [
    {
      "cell_type": "markdown",
      "metadata": {},
      "source": [
        "Get the main first page results from Google search for the term \"bitcoin\"."
      ]
    },
    {
      "cell_type": "code",
      "metadata": {},
      "source": [
        "from CryptoFraudDetection.utils.enums import ScraperNotebookMode, LoggerMode\n",
        "from CryptoFraudDetection.utils.logger import Logger\n",
        "from CryptoFraudDetection.scraper.google_results import GoogleResultsScraper\n",
        "from CryptoFraudDetection.elasticsearch.data_insertion import insert_dict\n",
        "from CryptoFraudDetection.elasticsearch.data_retrieval import search_data\n",
        "\n",
        "import pandas as pd\n",
        "from pprint import pprint\n",
        "\n",
        "logger_ = Logger(name=\"scrape_test\", level=LoggerMode.DEBUG, log_dir=\"../logs\")"
      ],
      "execution_count": null,
      "outputs": []
    },
    {
      "cell_type": "code",
      "metadata": {},
      "source": [
        "MODE = ScraperNotebookMode.WRITE"
      ],
      "execution_count": null,
      "outputs": []
    },
    {
      "cell_type": "code",
      "metadata": {},
      "source": [
        "if MODE==ScraperNotebookMode.WRITE:\n",
        "    query = \"bitcoin\"\n",
        "    scraper = GoogleResultsScraper(logger=logger_)\n",
        "    results = scraper.get_main_results(query, n_sites=3, headless=False)"
      ],
      "execution_count": null,
      "outputs": []
    },
    {
      "cell_type": "code",
      "metadata": {},
      "source": [
        "if MODE == ScraperNotebookMode.WRITE:\n",
        "    pprint(results)"
      ],
      "execution_count": null,
      "outputs": []
    },
    {
      "cell_type": "code",
      "metadata": {},
      "source": [
        "if MODE == ScraperNotebookMode.WRITE:\n",
        "    insert_dict(logger=logger_, index=\"google_search\", data_dict=results)"
      ],
      "execution_count": null,
      "outputs": []
    },
    {
      "cell_type": "code",
      "metadata": {},
      "source": [
        "if MODE==ScraperNotebookMode.READ:\n",
        "    results = search_data(index=\"google_search\", q=\"query:bitcoin\")\n",
        "    pprint(results.body)"
      ],
      "execution_count": null,
      "outputs": []
    }
  ],
  "metadata": {
    "kernelspec": {
      "name": "python3",
      "language": "python",
      "display_name": "Python 3 (ipykernel)",
      "path": "/Users/gabriel.torres/dev/com.github/CryptoFraudDetection/main/.venv/share/jupyter/kernels/python3"
    }
  },
  "nbformat": 4,
  "nbformat_minor": 4
}