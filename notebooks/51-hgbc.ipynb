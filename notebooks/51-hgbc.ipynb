{
 "cells": [
  {
   "cell_type": "code",
   "execution_count": 1,
   "metadata": {},
   "outputs": [],
   "source": [
    "import pandas as pd\n",
    "import swifter  # noqa: F401\n",
    "import torch\n",
    "from sklearn.ensemble import HistGradientBoostingClassifier\n",
    "from tqdm.notebook import tqdm\n",
    "from transformers import BertModel, BertTokenizer\n",
    "\n",
    "device = torch.device(\"cuda\" if torch.cuda.is_available() else \"mps\" if torch.mps.is_available() else \"cpu\")"
   ]
  },
  {
   "cell_type": "code",
   "execution_count": 2,
   "metadata": {},
   "outputs": [
    {
     "name": "stdout",
     "output_type": "stream",
     "text": [
      "Using device: cuda\n"
     ]
    }
   ],
   "source": [
    "print(f\"Using device: {device}\")"
   ]
  },
  {
   "cell_type": "code",
   "execution_count": 3,
   "metadata": {},
   "outputs": [],
   "source": [
    "MIN_COMMENTS_PER_SUBSET = 50\n",
    "N_OF_SPLITS_PER_SUBSET = 50"
   ]
  },
  {
   "cell_type": "code",
   "execution_count": 4,
   "metadata": {},
   "outputs": [
    {
     "name": "stdout",
     "output_type": "stream",
     "text": [
      "Embedding file found\n"
     ]
    }
   ],
   "source": [
    "embedding_exists = None\n",
    "df_reddit = None\n",
    "\n",
    "try:\n",
    "    df_reddit = pd.read_parquet(\"../data/processed/reddit_posts_embedded.parquet\")\n",
    "    embedding_exists = True\n",
    "    print(\"Embedding file found\")\n",
    "except FileNotFoundError:\n",
    "    print(\"Embedding file not found, cleaning up and re-embedding\")"
   ]
  },
  {
   "cell_type": "code",
   "execution_count": 5,
   "metadata": {},
   "outputs": [
    {
     "data": {
      "text/html": [
       "<div>\n",
       "<style scoped>\n",
       "    .dataframe tbody tr th:only-of-type {\n",
       "        vertical-align: middle;\n",
       "    }\n",
       "\n",
       "    .dataframe tbody tr th {\n",
       "        vertical-align: top;\n",
       "    }\n",
       "\n",
       "    .dataframe thead th {\n",
       "        text-align: right;\n",
       "    }\n",
       "</style>\n",
       "<table border=\"1\" class=\"dataframe\">\n",
       "  <thead>\n",
       "    <tr style=\"text-align: right;\">\n",
       "      <th></th>\n",
       "      <th>id</th>\n",
       "      <th>parent_id</th>\n",
       "      <th>author</th>\n",
       "      <th>body</th>\n",
       "      <th>created</th>\n",
       "      <th>depth</th>\n",
       "      <th>edited</th>\n",
       "      <th>score</th>\n",
       "      <th>search_query</th>\n",
       "      <th>subreddit</th>\n",
       "      <th>title</th>\n",
       "      <th>url</th>\n",
       "      <th>num_comments</th>\n",
       "      <th>test</th>\n",
       "      <th>fraud</th>\n",
       "      <th>embedding</th>\n",
       "    </tr>\n",
       "  </thead>\n",
       "  <tbody>\n",
       "    <tr>\n",
       "      <th>0</th>\n",
       "      <td>yxu5tv</td>\n",
       "      <td>&lt;NA&gt;</td>\n",
       "      <td>magus-21</td>\n",
       "      <td>Secretly lending customer funds, market-making...</td>\n",
       "      <td>2022-11-17 16:10:14</td>\n",
       "      <td>-1</td>\n",
       "      <td>NaT</td>\n",
       "      <td>1597</td>\n",
       "      <td>Safe Moon</td>\n",
       "      <td>r/CryptoCurrency</td>\n",
       "      <td>\"DYOR\" is worthless. You can't \"Do Your Own Re...</td>\n",
       "      <td>https://www.reddit.com/r/CryptoCurrency/commen...</td>\n",
       "      <td>634</td>\n",
       "      <td>True</td>\n",
       "      <td>True</td>\n",
       "      <td>[-0.4334820508956909, -0.4628458321094513, -0....</td>\n",
       "    </tr>\n",
       "  </tbody>\n",
       "</table>\n",
       "</div>"
      ],
      "text/plain": [
       "       id parent_id    author  \\\n",
       "0  yxu5tv      <NA>  magus-21   \n",
       "\n",
       "                                                body             created  \\\n",
       "0  Secretly lending customer funds, market-making... 2022-11-17 16:10:14   \n",
       "\n",
       "   depth edited  score search_query         subreddit  \\\n",
       "0     -1    NaT   1597    Safe Moon  r/CryptoCurrency   \n",
       "\n",
       "                                               title  \\\n",
       "0  \"DYOR\" is worthless. You can't \"Do Your Own Re...   \n",
       "\n",
       "                                                 url  num_comments  test  \\\n",
       "0  https://www.reddit.com/r/CryptoCurrency/commen...           634  True   \n",
       "\n",
       "   fraud                                          embedding  \n",
       "0   True  [-0.4334820508956909, -0.4628458321094513, -0....  "
      ]
     },
     "execution_count": 5,
     "metadata": {},
     "output_type": "execute_result"
    }
   ],
   "source": [
    "if not embedding_exists:\n",
    "    df_reddit = pd.read_parquet(\"../data/processed/reddit_posts.parquet\")\n",
    "    df_reddit[\"created\"] = pd.to_datetime(df_reddit[\"created\"], format=\"%Y-%m-%d %H:%M:%S\")\n",
    "    df_reddit[\"edited\"] = pd.to_datetime(df_reddit[\"edited\"], format=\"%Y-%m-%d %H:%M:%S\")\n",
    "\n",
    "df_reddit.head(1)"
   ]
  },
  {
   "cell_type": "code",
   "execution_count": 6,
   "metadata": {},
   "outputs": [
    {
     "data": {
      "text/html": [
       "<div>\n",
       "<style scoped>\n",
       "    .dataframe tbody tr th:only-of-type {\n",
       "        vertical-align: middle;\n",
       "    }\n",
       "\n",
       "    .dataframe tbody tr th {\n",
       "        vertical-align: top;\n",
       "    }\n",
       "\n",
       "    .dataframe thead th {\n",
       "        text-align: right;\n",
       "    }\n",
       "</style>\n",
       "<table border=\"1\" class=\"dataframe\">\n",
       "  <thead>\n",
       "    <tr style=\"text-align: right;\">\n",
       "      <th></th>\n",
       "      <th>symbol</th>\n",
       "      <th>fraud</th>\n",
       "      <th>test</th>\n",
       "      <th>max_market_cap_e9</th>\n",
       "      <th>start_date</th>\n",
       "      <th>subreddits</th>\n",
       "      <th>end_date</th>\n",
       "    </tr>\n",
       "    <tr>\n",
       "      <th>name</th>\n",
       "      <th></th>\n",
       "      <th></th>\n",
       "      <th></th>\n",
       "      <th></th>\n",
       "      <th></th>\n",
       "      <th></th>\n",
       "      <th></th>\n",
       "    </tr>\n",
       "  </thead>\n",
       "  <tbody>\n",
       "    <tr>\n",
       "      <th>Bitcoin</th>\n",
       "      <td>BTC</td>\n",
       "      <td>False</td>\n",
       "      <td>False</td>\n",
       "      <td>1800.0</td>\n",
       "      <td>2010-07-14</td>\n",
       "      <td>[CryptoCurrency, CryptoMoonShots, CryptoMarket...</td>\n",
       "      <td>NaT</td>\n",
       "    </tr>\n",
       "  </tbody>\n",
       "</table>\n",
       "</div>"
      ],
      "text/plain": [
       "        symbol  fraud   test  max_market_cap_e9 start_date  \\\n",
       "name                                                         \n",
       "Bitcoin    BTC  False  False             1800.0 2010-07-14   \n",
       "\n",
       "                                                subreddits end_date  \n",
       "name                                                                 \n",
       "Bitcoin  [CryptoCurrency, CryptoMoonShots, CryptoMarket...      NaT  "
      ]
     },
     "execution_count": 6,
     "metadata": {},
     "output_type": "execute_result"
    }
   ],
   "source": [
    "df_coins = pd.read_json(\"../data/raw/coins.json\")\n",
    "df_coins[\"start_date\"] = pd.to_datetime(df_coins[\"start_date\"], format=\"ISO8601\")\n",
    "df_coins[\"end_date\"] = pd.to_datetime(df_coins[\"end_date\"], format=\"ISO8601\")\n",
    "df_coins = df_coins.set_index(\"name\")\n",
    "\n",
    "df_coins.head(1)"
   ]
  },
  {
   "cell_type": "code",
   "execution_count": 7,
   "metadata": {},
   "outputs": [],
   "source": [
    "def get_number_of_comments_per_coin(name: str, cutoff_date: str) -> int:\n",
    "    \"\"\"\n",
    "    Get the number of comments for a given coin.\n",
    "\n",
    "    Args:\n",
    "        name (str): The name of the coin.\n",
    "        cutoff_date (str): The cutoff date for the comments.\n",
    "\n",
    "    Returns:\n",
    "        int: The number of comments for the given coin.\n",
    "\n",
    "    \"\"\"\n",
    "    cutoff_date = pd.to_datetime(cutoff_date, format=\"%Y-%m-%d\")\n",
    "    return len(df_reddit[(df_reddit[\"search_query\"] == name) & (df_reddit[\"created\"] <= cutoff_date)])\n",
    "\n",
    "\n",
    "def get_first_comment_date(name: str) -> str:\n",
    "    \"\"\"\n",
    "    Get the first comment date for a given coin.\n",
    "\n",
    "    Args:\n",
    "        name (str): The name of the coin.\n",
    "\n",
    "    Returns:\n",
    "        str: The first comment date for the given coin.\n",
    "\n",
    "    \"\"\"\n",
    "    return df_reddit[df_reddit[\"search_query\"] == name][\"created\"].min()\n",
    "\n",
    "\n",
    "def get_last_comment_date(name: str) -> str:\n",
    "    \"\"\"\n",
    "    Get the last comment date for a given coin.\n",
    "\n",
    "    Args:\n",
    "        name (str): The name of the coin.\n",
    "\n",
    "    Returns:\n",
    "        str: The last comment date for the given coin.\n",
    "\n",
    "    \"\"\"\n",
    "    mod_df_reddit = df_reddit.copy()\n",
    "    mod_df_reddit[\"edited\"] = mod_df_reddit[\"edited\"].fillna(mod_df_reddit[\"created\"])\n",
    "    return mod_df_reddit[mod_df_reddit[\"search_query\"] == name][\"edited\"].max()\n",
    "\n",
    "\n",
    "def get_coin_info(name: str) -> pd.Series:\n",
    "    \"\"\"\n",
    "    Get coin information for a given coin name.\n",
    "\n",
    "    Args:\n",
    "        name (str): The name of the coin.\n",
    "\n",
    "    Returns:\n",
    "        pd.Series: The coin information.\n",
    "\n",
    "    \"\"\"\n",
    "    return df_coins.loc[name]\n",
    "\n",
    "\n",
    "def get_coin_info_row(row: pd.Series) -> pd.Series:\n",
    "    \"\"\"\n",
    "    Get coin information for a given row.\n",
    "\n",
    "    Args:\n",
    "        row (pd.Series): A row from the dataframe containing a search_query column.\n",
    "\n",
    "    Returns:\n",
    "        pd.Series: The coin information corresponding to the search_query.\n",
    "\n",
    "    \"\"\"\n",
    "    return df_coins.loc[row.search_query]\n",
    "\n",
    "\n",
    "def is_comment_valid_row(row: pd.Series) -> bool:\n",
    "    \"\"\"\n",
    "    Check if a comment is valid based on the coin's start and end dates.\n",
    "\n",
    "    Args:\n",
    "        row (pd.Series): A row from the dataframe containing created and edited columns.\n",
    "\n",
    "    Returns:\n",
    "        bool: True if the comment is valid, False otherwise.\n",
    "\n",
    "    \"\"\"\n",
    "    coin = get_coin_info_row(row)\n",
    "\n",
    "    comment_date = row.edited if pd.notna(row.edited) else row.created\n",
    "    start_date_valid = comment_date >= coin[\"start_date\"]\n",
    "    end_date_valid = comment_date <= coin[\"end_date\"] if pd.notna(coin[\"end_date\"]) else True\n",
    "\n",
    "    return start_date_valid and end_date_valid"
   ]
  },
  {
   "cell_type": "code",
   "execution_count": 8,
   "metadata": {},
   "outputs": [],
   "source": [
    "if not embedding_exists:\n",
    "    df_reddit[\"test\"] = df_reddit.swifter.apply(get_coin_info_row, axis=1)[\"test\"]\n",
    "    df_reddit[\"fraud\"] = df_reddit.swifter.apply(get_coin_info_row, axis=1)[\"fraud\"]\n",
    "    df_reddit[\"valid\"] = df_reddit.swifter.apply(is_comment_valid_row, axis=1)\n",
    "\n",
    "    df_reddit = df_reddit[df_reddit[\"valid\"]]\n",
    "    df_reddit = df_reddit.drop(columns=[\"valid\"])\n",
    "    df_reddit = df_reddit.reset_index(drop=True)\n",
    "\n",
    "    df_reddit.head(1)"
   ]
  },
  {
   "cell_type": "code",
   "execution_count": 9,
   "metadata": {},
   "outputs": [
    {
     "data": {
      "text/plain": [
       "search_query\n",
       "Bitcoin       142163\n",
       "Chainlink      72875\n",
       "Ethereum       72409\n",
       "Safe Moon      69352\n",
       "Cosmos         57082\n",
       "Avalanche      35673\n",
       "FTX Token      21656\n",
       "THORChain      18772\n",
       "Terra Luna      8683\n",
       "BitForex        2611\n",
       "BeerCoin         805\n",
       "Name: count, dtype: Int64"
      ]
     },
     "execution_count": 9,
     "metadata": {},
     "output_type": "execute_result"
    }
   ],
   "source": [
    "df_reddit[\"search_query\"].value_counts()"
   ]
  },
  {
   "cell_type": "code",
   "execution_count": 10,
   "metadata": {},
   "outputs": [],
   "source": [
    "if not embedding_exists:\n",
    "    bert_tokenizer = BertTokenizer.from_pretrained(\"bert-base-uncased\")\n",
    "    bert_embedder = BertModel.from_pretrained(\"bert-base-uncased\").to(device)\n",
    "\n",
    "    # Pre-fetch texts as numpy array for efficient slicing\n",
    "    texts = df_reddit[\"body\"].values\n",
    "    embeddings = []\n",
    "\n",
    "    EMBEDDING_BATCH_SIZE = 2**7\n",
    "    print(f\"Embedding batch size: {EMBEDDING_BATCH_SIZE}\")\n",
    "\n",
    "    # Process batches\n",
    "    for i in tqdm(range(0, len(texts), EMBEDDING_BATCH_SIZE)):\n",
    "        batch_texts = texts[i : i + EMBEDDING_BATCH_SIZE]\n",
    "        with torch.no_grad():\n",
    "            tokens = bert_tokenizer.batch_encode_plus(\n",
    "                batch_texts,\n",
    "                padding=True,\n",
    "                truncation=True,\n",
    "                return_tensors=\"pt\",\n",
    "                add_special_tokens=True,\n",
    "            ).to(device)\n",
    "\n",
    "            outputs = bert_embedder(**tokens)[\"pooler_output\"].cpu()\n",
    "            embeddings.extend(outputs.tolist())\n",
    "\n",
    "    df_reddit[\"embedding\"] = embeddings\n"
   ]
  },
  {
   "cell_type": "code",
   "execution_count": 11,
   "metadata": {},
   "outputs": [],
   "source": [
    "if not embedding_exists:\n",
    "    df_reddit.to_parquet(\"../data/processed/reddit_posts_embedded.parquet\")\n"
   ]
  },
  {
   "cell_type": "code",
   "execution_count": null,
   "metadata": {},
   "outputs": [],
   "source": []
  },
  {
   "cell_type": "code",
   "execution_count": null,
   "metadata": {},
   "outputs": [],
   "source": [
    "train_df = df_reddit[~df_reddit[\"test\"]]\n",
    "test_df = df_reddit[df_reddit[\"test\"]]"
   ]
  },
  {
   "cell_type": "code",
   "execution_count": null,
   "metadata": {},
   "outputs": [],
   "source": [
    "for i, val_coin in enumerate(train_df[\"search_query\"].unique()):\n",
    "    # Get the fitting and validation splits\n",
    "    fit_df = train_df[train_df[\"search_query\"] != val_coin]\n",
    "    val_df = train_df[train_df[\"search_query\"] == val_coin]\n",
    "\n",
    "    # HistGradientBoostingClassifier\n",
    "    model = HistGradientBoostingClassifier(max_iter=1000, random_state=42)\n",
    "    model.fit(fit_df[\"embedding\"].to_list(), fit_df[\"fraud\"])\n",
    "\n",
    "    # Predict the validation set\n",
    "    predictions = model.predict(val_df[\"embedding\"].to_list())\n",
    "\n",
    "    # Calculate the accuracy\n",
    "    accuracy = (predictions == val_df[\"fraud\"]).mean()\n",
    "\n",
    "    print(f\"Coin left out: {val_coin}, Accuracy: {accuracy:.2f}\")\n",
    "    print()"
   ]
  },
  {
   "cell_type": "code",
   "execution_count": null,
   "metadata": {},
   "outputs": [],
   "source": [
    "df_reddit[\"embedding\"].isna().sum()\n"
   ]
  }
 ],
 "metadata": {
  "kernelspec": {
   "display_name": ".venv",
   "language": "python",
   "name": "python3"
  },
  "language_info": {
   "codemirror_mode": {
    "name": "ipython",
    "version": 3
   },
   "file_extension": ".py",
   "mimetype": "text/x-python",
   "name": "python",
   "nbconvert_exporter": "python",
   "pygments_lexer": "ipython3",
   "version": "3.12.3"
  }
 },
 "nbformat": 4,
 "nbformat_minor": 2
}
