{
 "cells": [
  {
   "cell_type": "markdown",
   "metadata": {},
   "source": [
    "Get the main first page results from Google search for the term \"bitcoin\"."
   ]
  },
  {
   "cell_type": "code",
   "execution_count": 1,
   "metadata": {},
   "outputs": [],
   "source": [
    "from CryptoFraudDetection.utils.enums import ScraperNotebookMode, LoggerMode\n",
    "from CryptoFraudDetection.utils.logger import Logger\n",
    "from CryptoFraudDetection.scraper.google_results import GoogleResultsScraper\n",
    "from CryptoFraudDetection.elasticsearch.data_insertion import insert_dict\n",
    "from CryptoFraudDetection.utils.exceptions import DetectedBotException\n",
    "\n",
    "import pandas as pd\n",
    "\n",
    "logger_ = Logger(name=\"scrape_test\", level=LoggerMode.DEBUG, log_dir=\"../logs\")"
   ]
  },
  {
   "cell_type": "code",
   "execution_count": 2,
   "metadata": {},
   "outputs": [],
   "source": [
    "MODE = ScraperNotebookMode.WRITE"
   ]
  },
  {
   "cell_type": "code",
   "execution_count": 3,
   "metadata": {},
   "outputs": [
    {
     "data": {
      "text/plain": [
       "['r/CryptoCurrency', 'r/CryptoMoonShots', 'r/CryptoMarkets']"
      ]
     },
     "execution_count": 3,
     "metadata": {},
     "output_type": "execute_result"
    }
   ],
   "source": [
    "# read subreddits from data/raw/subreddit_list.txt\n",
    "with open(\"../data/raw/subreddit_list.txt\", \"r\") as f:\n",
    "    subreddits = f.readlines()\n",
    "    subreddits = [subreddit.strip() for subreddit in subreddits]\n",
    "\n",
    "subreddits"
   ]
  },
  {
   "cell_type": "code",
   "execution_count": 4,
   "metadata": {},
   "outputs": [
    {
     "data": {
      "text/html": [
       "<div>\n",
       "<style scoped>\n",
       "    .dataframe tbody tr th:only-of-type {\n",
       "        vertical-align: middle;\n",
       "    }\n",
       "\n",
       "    .dataframe tbody tr th {\n",
       "        vertical-align: top;\n",
       "    }\n",
       "\n",
       "    .dataframe thead th {\n",
       "        text-align: right;\n",
       "    }\n",
       "</style>\n",
       "<table border=\"1\" class=\"dataframe\">\n",
       "  <thead>\n",
       "    <tr style=\"text-align: right;\">\n",
       "      <th></th>\n",
       "      <th>Coin Name</th>\n",
       "      <th>Alternative Name</th>\n",
       "      <th>Short Name</th>\n",
       "      <th>Classification</th>\n",
       "      <th>Start Date</th>\n",
       "      <th>Scam Date</th>\n",
       "    </tr>\n",
       "  </thead>\n",
       "  <tbody>\n",
       "    <tr>\n",
       "      <th>0</th>\n",
       "      <td>FTX Token</td>\n",
       "      <td>NaN</td>\n",
       "      <td>FTT</td>\n",
       "      <td>Scam</td>\n",
       "      <td>2019-08-01</td>\n",
       "      <td>2022-11-07</td>\n",
       "    </tr>\n",
       "    <tr>\n",
       "      <th>1</th>\n",
       "      <td>Terra Luna Classic</td>\n",
       "      <td>Terra Luna</td>\n",
       "      <td>LUNC</td>\n",
       "      <td>Scam</td>\n",
       "      <td>2019-07-27</td>\n",
       "      <td>NaN</td>\n",
       "    </tr>\n",
       "    <tr>\n",
       "      <th>2</th>\n",
       "      <td>Squid-Game-Coin</td>\n",
       "      <td>NaN</td>\n",
       "      <td>SQUID</td>\n",
       "      <td>Scam</td>\n",
       "      <td>2024-10-15</td>\n",
       "      <td>NaN</td>\n",
       "    </tr>\n",
       "    <tr>\n",
       "      <th>3</th>\n",
       "      <td>BeerCoin</td>\n",
       "      <td>NaN</td>\n",
       "      <td>BEER</td>\n",
       "      <td>Scam</td>\n",
       "      <td>2024-05-27</td>\n",
       "      <td>NaN</td>\n",
       "    </tr>\n",
       "    <tr>\n",
       "      <th>4</th>\n",
       "      <td>BitForex</td>\n",
       "      <td>NaN</td>\n",
       "      <td>BF</td>\n",
       "      <td>Scam</td>\n",
       "      <td>2019-08-31</td>\n",
       "      <td>NaN</td>\n",
       "    </tr>\n",
       "    <tr>\n",
       "      <th>5</th>\n",
       "      <td>Bitcoin</td>\n",
       "      <td>NaN</td>\n",
       "      <td>BTC</td>\n",
       "      <td>Non-Scam</td>\n",
       "      <td>2010-07-14</td>\n",
       "      <td>NaN</td>\n",
       "    </tr>\n",
       "    <tr>\n",
       "      <th>6</th>\n",
       "      <td>Ethereum</td>\n",
       "      <td>NaN</td>\n",
       "      <td>ETH</td>\n",
       "      <td>Non-Scam</td>\n",
       "      <td>2015-08-08</td>\n",
       "      <td>NaN</td>\n",
       "    </tr>\n",
       "    <tr>\n",
       "      <th>7</th>\n",
       "      <td>Cosmos</td>\n",
       "      <td>NaN</td>\n",
       "      <td>ATOM</td>\n",
       "      <td>Non-Scam</td>\n",
       "      <td>2019-03-15</td>\n",
       "      <td>NaN</td>\n",
       "    </tr>\n",
       "    <tr>\n",
       "      <th>8</th>\n",
       "      <td>Avalanche</td>\n",
       "      <td>NaN</td>\n",
       "      <td>AVAX</td>\n",
       "      <td>Non-Scam</td>\n",
       "      <td>2020-09-23</td>\n",
       "      <td>NaN</td>\n",
       "    </tr>\n",
       "  </tbody>\n",
       "</table>\n",
       "</div>"
      ],
      "text/plain": [
       "            Coin Name Alternative Name Short Name Classification  Start Date  \\\n",
       "0           FTX Token              NaN        FTT           Scam  2019-08-01   \n",
       "1  Terra Luna Classic       Terra Luna       LUNC           Scam  2019-07-27   \n",
       "2     Squid-Game-Coin              NaN      SQUID           Scam  2024-10-15   \n",
       "3            BeerCoin              NaN       BEER           Scam  2024-05-27   \n",
       "4            BitForex              NaN         BF           Scam  2019-08-31   \n",
       "5             Bitcoin              NaN        BTC       Non-Scam  2010-07-14   \n",
       "6            Ethereum              NaN        ETH       Non-Scam  2015-08-08   \n",
       "7              Cosmos              NaN       ATOM       Non-Scam  2019-03-15   \n",
       "8           Avalanche              NaN       AVAX       Non-Scam  2020-09-23   \n",
       "\n",
       "    Scam Date  \n",
       "0  2022-11-07  \n",
       "1         NaN  \n",
       "2         NaN  \n",
       "3         NaN  \n",
       "4         NaN  \n",
       "5         NaN  \n",
       "6         NaN  \n",
       "7         NaN  \n",
       "8         NaN  "
      ]
     },
     "execution_count": 4,
     "metadata": {},
     "output_type": "execute_result"
    }
   ],
   "source": [
    "# read subreddits from data/raw/labeled_coins.csv\n",
    "coins = pd.read_csv(\"../data/raw/labeled_coins.csv\")\n",
    "coins"
   ]
  },
  {
   "cell_type": "code",
   "execution_count": 5,
   "metadata": {},
   "outputs": [],
   "source": [
    "proxy_list_api = \"https://api.proxyscrape.com/v4/free-proxy-list/get?request=display_proxies&proxy_format=protocolipport&format=text\"\n",
    "proxy_list = pd.read_csv(proxy_list_api, header=None).iloc[:, 0].values\n",
    "proxy_list[:5]\n",
    "\n",
    "proxy_gen = (proxy for proxy in proxy_list)\n",
    "def get_next_proxy():\n",
    "    return next(proxy_gen)"
   ]
  },
  {
   "cell_type": "code",
   "execution_count": 6,
   "metadata": {},
   "outputs": [
    {
     "name": "stderr",
     "output_type": "stream",
     "text": [
      "2024-11-11 07:58:10,616 - scrape_test - DEBUG - Using proxy http://165.22.77.86:80\n",
      "2024-11-11 07:58:10,618 - scrape_test - INFO - Scraping FTX Token in r/CryptoCurrency\n",
      "2024-11-11 07:58:10,619 - scrape_test - DEBUG - Query: FTX Token FTT site:reddit.com/r/CryptoCurrency before:2022-11-07 after:2019-08-01\n",
      "2024-11-11 07:58:12,811 - scrape_test - INFO - Accepted Google's cookies.\n",
      "2024-11-11 07:58:13,906 - scrape_test - INFO - Search query submitted successfully.\n",
      "2024-11-11 07:58:14,951 - scrape_test - DEBUG - Missing elements in result box. Skipping\n",
      "2024-11-11 07:58:15,024 - scrape_test - DEBUG - Missing elements in result box. Skipping\n",
      "2024-11-11 07:58:15,025 - scrape_test - WARNING - Next page button not found.\n",
      "2024-11-11 07:58:15,560 - scrape_test - INFO - Scraping FTX Token in r/CryptoMoonShots\n",
      "2024-11-11 07:58:15,561 - scrape_test - DEBUG - Query: FTX Token FTT site:reddit.com/r/CryptoMoonShots before:2022-11-07 after:2019-08-01\n",
      "2024-11-11 07:58:17,736 - scrape_test - INFO - Accepted Google's cookies.\n",
      "2024-11-11 07:58:18,826 - scrape_test - INFO - Search query submitted successfully.\n",
      "2024-11-11 07:58:19,835 - scrape_test - DEBUG - Missing elements in result box. Skipping\n",
      "2024-11-11 07:58:19,837 - scrape_test - WARNING - Next page button not found.\n",
      "2024-11-11 07:58:20,352 - scrape_test - INFO - Scraping FTX Token in r/CryptoMarkets\n",
      "2024-11-11 07:58:20,352 - scrape_test - DEBUG - Query: FTX Token FTT site:reddit.com/r/CryptoMarkets before:2022-11-07 after:2019-08-01\n",
      "2024-11-11 07:58:22,477 - scrape_test - INFO - Accepted Google's cookies.\n",
      "2024-11-11 07:58:23,555 - scrape_test - INFO - Search query submitted successfully.\n",
      "2024-11-11 07:58:24,575 - scrape_test - DEBUG - Missing elements in result box. Skipping\n",
      "2024-11-11 07:58:24,580 - scrape_test - WARNING - Next page button not found.\n"
     ]
    }
   ],
   "source": [
    "proxy_address = get_next_proxy()\n",
    "logger_.debug(f\"Using proxy {proxy_address}\")\n",
    "\n",
    "n_sites = 30\n",
    "if MODE == ScraperNotebookMode.WRITE:\n",
    "    for _, coin in coins.iterrows():\n",
    "        for subreddit in subreddits:\n",
    "            try:\n",
    "                logger_.info(f\"Scraping {coin['Coin Name']} in {subreddit}\")\n",
    "                query = f\"{coin['Coin Name']} {coin[\"Alternative Name\"] if not pd.isna(coin[\"Alternative Name\"]) else \"\"} {coin[\"Short Name\"]} site:reddit.com/{subreddit} {\"before:\" + coin['Scam Date'] if not pd.isna(coin['Scam Date']) else \"\"} {\"after:\" + coin['Start Date'] if not pd.isna(coin['Start Date']) else \"\"}\"\n",
    "                query = query.replace(\"  \", \" \")\n",
    "                logger_.debug(f\"Query: {query}\")\n",
    "                scraper = GoogleResultsScraper(logger=logger_)\n",
    "                results = scraper.get_main_results(\n",
    "                    query, n_sites=n_sites, headless=False\n",
    "                )\n",
    "                insert_dict(logger=logger_, index=\"reddit_metadata\", data_dict=results)\n",
    "            except DetectedBotException as e:\n",
    "                logger_.warning(f\"Detected bot, changing proxy\")\n",
    "                proxy_address = get_next_proxy()\n",
    "                logger_.info(f\"Using proxy {proxy_address}\")\n",
    "        break  # test"
   ]
  }
 ],
 "metadata": {
  "kernelspec": {
   "display_name": "Python 3",
   "language": "python",
   "name": "python3"
  },
  "language_info": {
   "codemirror_mode": {
    "name": "ipython",
    "version": 3
   },
   "file_extension": ".py",
   "mimetype": "text/x-python",
   "name": "python",
   "nbconvert_exporter": "python",
   "pygments_lexer": "ipython3",
   "version": "3.12.7"
  }
 },
 "nbformat": 4,
 "nbformat_minor": 4
}
