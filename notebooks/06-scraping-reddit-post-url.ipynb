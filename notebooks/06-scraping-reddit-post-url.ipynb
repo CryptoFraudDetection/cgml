{
 "cells": [
  {
   "cell_type": "markdown",
   "metadata": {},
   "source": [
    "Get the main first page results from Google search for the term \"bitcoin\"."
   ]
  },
  {
   "cell_type": "code",
   "execution_count": 1,
   "metadata": {},
   "outputs": [],
   "source": [
    "import time\n",
    "\n",
    "from CryptoFraudDetection.utils.logger import Logger\n",
    "from CryptoFraudDetection.utils.exceptions import ProxyNotWorking\n",
    "from CryptoFraudDetection.utils.exceptions import DetectedBotException\n",
    "from CryptoFraudDetection.utils.enums import ScraperNotebookMode, LoggerMode\n",
    "from CryptoFraudDetection.elasticsearch.data_insertion import insert_dict\n",
    "from CryptoFraudDetection.scraper.google_results import GoogleResultsScraper\n",
    "from CryptoFraudDetection.scraper.utils import get_driver\n",
    "\n",
    "import pandas as pd\n",
    "\n",
    "logger_ = Logger(name=\"scrape_reddit_metadata\", level=LoggerMode.DEBUG, log_dir=\"../logs\")"
   ]
  },
  {
   "cell_type": "code",
   "execution_count": 2,
   "metadata": {},
   "outputs": [],
   "source": [
    "MODE = ScraperNotebookMode.WRITE"
   ]
  },
  {
   "cell_type": "code",
   "execution_count": 3,
   "metadata": {},
   "outputs": [
    {
     "data": {
      "text/plain": [
       "['r/CryptoCurrency', 'r/CryptoMoonShots', 'r/CryptoMarkets']"
      ]
     },
     "execution_count": 3,
     "metadata": {},
     "output_type": "execute_result"
    }
   ],
   "source": [
    "# read subreddits from data/raw/subreddit_list.txt\n",
    "with open(\"../data/raw/subreddit_list.txt\", \"r\") as f:\n",
    "    subreddits = f.readlines()\n",
    "    subreddits = [subreddit.strip() for subreddit in subreddits]\n",
    "\n",
    "subreddits"
   ]
  },
  {
   "cell_type": "code",
   "execution_count": 4,
   "metadata": {},
   "outputs": [
    {
     "data": {
      "text/html": [
       "<div>\n",
       "<style scoped>\n",
       "    .dataframe tbody tr th:only-of-type {\n",
       "        vertical-align: middle;\n",
       "    }\n",
       "\n",
       "    .dataframe tbody tr th {\n",
       "        vertical-align: top;\n",
       "    }\n",
       "\n",
       "    .dataframe thead th {\n",
       "        text-align: right;\n",
       "    }\n",
       "</style>\n",
       "<table border=\"1\" class=\"dataframe\">\n",
       "  <thead>\n",
       "    <tr style=\"text-align: right;\">\n",
       "      <th></th>\n",
       "      <th>Coin Name</th>\n",
       "      <th>Alternative Name</th>\n",
       "      <th>Short Name</th>\n",
       "      <th>Classification</th>\n",
       "      <th>Start Date</th>\n",
       "      <th>Scam Date</th>\n",
       "    </tr>\n",
       "  </thead>\n",
       "  <tbody>\n",
       "    <tr>\n",
       "      <th>0</th>\n",
       "      <td>FTX Token</td>\n",
       "      <td>NaN</td>\n",
       "      <td>FTT</td>\n",
       "      <td>Scam</td>\n",
       "      <td>2019-08-01</td>\n",
       "      <td>2022-11-07</td>\n",
       "    </tr>\n",
       "    <tr>\n",
       "      <th>1</th>\n",
       "      <td>Terra Luna Classic</td>\n",
       "      <td>Terra Classic</td>\n",
       "      <td>LUNC</td>\n",
       "      <td>Scam</td>\n",
       "      <td>2019-07-27</td>\n",
       "      <td>2022-05-08</td>\n",
       "    </tr>\n",
       "    <tr>\n",
       "      <th>2</th>\n",
       "      <td>BeerCoin</td>\n",
       "      <td>NaN</td>\n",
       "      <td>BEER</td>\n",
       "      <td>Scam</td>\n",
       "      <td>2024-05-27</td>\n",
       "      <td>2024-06-24</td>\n",
       "    </tr>\n",
       "    <tr>\n",
       "      <th>3</th>\n",
       "      <td>BitForex</td>\n",
       "      <td>NaN</td>\n",
       "      <td>BF</td>\n",
       "      <td>Scam</td>\n",
       "      <td>2019-08-31</td>\n",
       "      <td>2024-03-05</td>\n",
       "    </tr>\n",
       "    <tr>\n",
       "      <th>4</th>\n",
       "      <td>Bitcoin</td>\n",
       "      <td>NaN</td>\n",
       "      <td>BTC</td>\n",
       "      <td>Non-Scam</td>\n",
       "      <td>2010-07-14</td>\n",
       "      <td>NaN</td>\n",
       "    </tr>\n",
       "    <tr>\n",
       "      <th>5</th>\n",
       "      <td>Ethereum</td>\n",
       "      <td>NaN</td>\n",
       "      <td>ETH</td>\n",
       "      <td>Non-Scam</td>\n",
       "      <td>2015-08-08</td>\n",
       "      <td>NaN</td>\n",
       "    </tr>\n",
       "    <tr>\n",
       "      <th>6</th>\n",
       "      <td>Cosmos</td>\n",
       "      <td>NaN</td>\n",
       "      <td>ATOM</td>\n",
       "      <td>Non-Scam</td>\n",
       "      <td>2019-03-15</td>\n",
       "      <td>NaN</td>\n",
       "    </tr>\n",
       "    <tr>\n",
       "      <th>7</th>\n",
       "      <td>Avalanche</td>\n",
       "      <td>NaN</td>\n",
       "      <td>AVAX</td>\n",
       "      <td>Non-Scam</td>\n",
       "      <td>2020-09-23</td>\n",
       "      <td>NaN</td>\n",
       "    </tr>\n",
       "  </tbody>\n",
       "</table>\n",
       "</div>"
      ],
      "text/plain": [
       "            Coin Name Alternative Name Short Name Classification  Start Date  \\\n",
       "0           FTX Token              NaN        FTT           Scam  2019-08-01   \n",
       "1  Terra Luna Classic    Terra Classic       LUNC           Scam  2019-07-27   \n",
       "2            BeerCoin              NaN       BEER           Scam  2024-05-27   \n",
       "3            BitForex              NaN         BF           Scam  2019-08-31   \n",
       "4             Bitcoin              NaN        BTC       Non-Scam  2010-07-14   \n",
       "5            Ethereum              NaN        ETH       Non-Scam  2015-08-08   \n",
       "6              Cosmos              NaN       ATOM       Non-Scam  2019-03-15   \n",
       "7           Avalanche              NaN       AVAX       Non-Scam  2020-09-23   \n",
       "\n",
       "    Scam Date  \n",
       "0  2022-11-07  \n",
       "1  2022-05-08  \n",
       "2  2024-06-24  \n",
       "3  2024-03-05  \n",
       "4         NaN  \n",
       "5         NaN  \n",
       "6         NaN  \n",
       "7         NaN  "
      ]
     },
     "execution_count": 4,
     "metadata": {},
     "output_type": "execute_result"
    }
   ],
   "source": [
    "# read subreddits from data/raw/labeled_coins.csv\n",
    "coins = pd.read_csv(\"../data/raw/labeled_coins.csv\")\n",
    "coins"
   ]
  },
  {
   "cell_type": "code",
   "execution_count": 5,
   "metadata": {},
   "outputs": [],
   "source": [
    "def get_next_proxy(\n",
    "    link=\"https://api.proxyscrape.com/v4/free-proxy-list/get?request=display_proxies&proxy_format=protocolipport&format=csv&timeout=2000\",\n",
    "):\n",
    "    proxy_list = pd.read_csv(link)\n",
    "    proxy_list = proxy_list.sample(1)\n",
    "    return proxy_list.iloc[0]"
   ]
  },
  {
   "cell_type": "code",
   "execution_count": 6,
   "metadata": {},
   "outputs": [
    {
     "name": "stderr",
     "output_type": "stream",
     "text": [
      "2024-11-12 17:49:31,024 - scrape_reddit_metadata - DEBUG - Using proxy socks4://184.178.172.18:15280\n"
     ]
    }
   ],
   "source": [
    "proxy_info = get_next_proxy()\n",
    "logger_.debug(f\"Using proxy {proxy_info.protocol}://{proxy_info.ip}:{proxy_info.port}\")\n",
    "\n",
    "driver = get_driver(\n",
    "    proxy_protocol=proxy_info.protocol,\n",
    "    proxy_address=f\"{proxy_info.ip}:{proxy_info.port}\",\n",
    "    headless=False,\n",
    ")\n",
    "\n",
    "driver.quit()"
   ]
  },
  {
   "cell_type": "code",
   "execution_count": 7,
   "metadata": {},
   "outputs": [
    {
     "name": "stderr",
     "output_type": "stream",
     "text": [
      "2024-11-12 17:49:35,679 - scrape_reddit_metadata - INFO - Using proxy http://38.180.209.139:80\n",
      "2024-11-12 17:49:35,680 - scrape_reddit_metadata - INFO - Scraping FTX Token in r/CryptoCurrency\n",
      "2024-11-12 17:49:35,681 - scrape_reddit_metadata - DEBUG - Query: FTX Token FTT site:reddit.com/r/CryptoCurrency before:2022-11-07 after:2019-08-01\n",
      "2024-11-12 17:49:38,482 - scrape_reddit_metadata - WARNING - Detected bot or proxy not working\n",
      "2024-11-12 17:49:38,565 - scrape_reddit_metadata - INFO - Using proxy http://103.118.175.154:8080\n",
      "2024-11-12 17:49:43,572 - scrape_reddit_metadata - INFO - Scraping FTX Token in r/CryptoCurrency\n",
      "2024-11-12 17:49:43,573 - scrape_reddit_metadata - DEBUG - Query: FTX Token FTT site:reddit.com/r/CryptoCurrency before:2022-11-07 after:2019-08-01\n",
      "2024-11-12 17:49:46,006 - scrape_reddit_metadata - WARNING - Detected bot or proxy not working\n",
      "2024-11-12 17:49:46,112 - scrape_reddit_metadata - INFO - Using proxy http://190.103.177.131:80\n",
      "2024-11-12 17:49:51,114 - scrape_reddit_metadata - INFO - Scraping FTX Token in r/CryptoCurrency\n",
      "2024-11-12 17:49:51,115 - scrape_reddit_metadata - DEBUG - Query: FTX Token FTT site:reddit.com/r/CryptoCurrency before:2022-11-07 after:2019-08-01\n",
      "2024-11-12 17:50:12,044 - scrape_reddit_metadata - WARNING - Detected bot or proxy not working\n",
      "2024-11-12 17:50:12,176 - scrape_reddit_metadata - INFO - Using proxy socks4://130.193.123.34:5678\n",
      "2024-11-12 17:50:17,177 - scrape_reddit_metadata - INFO - Scraping FTX Token in r/CryptoCurrency\n",
      "2024-11-12 17:50:17,178 - scrape_reddit_metadata - DEBUG - Query: FTX Token FTT site:reddit.com/r/CryptoCurrency before:2022-11-07 after:2019-08-01\n",
      "2024-11-12 17:51:52,621 - scrape_reddit_metadata - WARNING - Detected bot or proxy not working\n",
      "2024-11-12 17:51:52,734 - scrape_reddit_metadata - INFO - Using proxy http://139.59.1.14:3128\n",
      "2024-11-12 17:51:57,741 - scrape_reddit_metadata - INFO - Scraping FTX Token in r/CryptoCurrency\n",
      "2024-11-12 17:51:57,742 - scrape_reddit_metadata - DEBUG - Query: FTX Token FTT site:reddit.com/r/CryptoCurrency before:2022-11-07 after:2019-08-01\n",
      "2024-11-12 17:52:00,469 - scrape_reddit_metadata - WARNING - Detected bot or proxy not working\n",
      "2024-11-12 17:52:00,536 - scrape_reddit_metadata - INFO - Using proxy socks4://130.193.123.34:5678\n",
      "2024-11-12 17:52:05,542 - scrape_reddit_metadata - INFO - Scraping FTX Token in r/CryptoCurrency\n",
      "2024-11-12 17:52:05,545 - scrape_reddit_metadata - DEBUG - Query: FTX Token FTT site:reddit.com/r/CryptoCurrency before:2022-11-07 after:2019-08-01\n",
      "2024-11-12 17:53:05,978 - scrape_reddit_metadata - WARNING - Detected bot or proxy not working\n",
      "2024-11-12 17:53:06,041 - scrape_reddit_metadata - INFO - Using proxy socks4://158.180.46.199:1004\n"
     ]
    },
    {
     "ename": "KeyboardInterrupt",
     "evalue": "",
     "output_type": "error",
     "traceback": [
      "\u001b[0;31m---------------------------------------------------------------------------\u001b[0m",
      "\u001b[0;31mKeyboardInterrupt\u001b[0m                         Traceback (most recent call last)",
      "Cell \u001b[0;32mIn[7], line 34\u001b[0m\n\u001b[1;32m     30\u001b[0m     logger_\u001b[38;5;241m.\u001b[39minfo(\n\u001b[1;32m     31\u001b[0m         \u001b[38;5;124mf\u001b[39m\u001b[38;5;124m\"\u001b[39m\u001b[38;5;124mUsing proxy \u001b[39m\u001b[38;5;132;01m{\u001b[39;00mproxy_info\u001b[38;5;241m.\u001b[39mprotocol\u001b[38;5;132;01m}\u001b[39;00m\u001b[38;5;124m://\u001b[39m\u001b[38;5;132;01m{\u001b[39;00mproxy_info\u001b[38;5;241m.\u001b[39mip\u001b[38;5;132;01m}\u001b[39;00m\u001b[38;5;124m:\u001b[39m\u001b[38;5;132;01m{\u001b[39;00mproxy_info\u001b[38;5;241m.\u001b[39mport\u001b[38;5;132;01m}\u001b[39;00m\u001b[38;5;124m\"\u001b[39m\n\u001b[1;32m     32\u001b[0m     )\n\u001b[1;32m     33\u001b[0m \u001b[38;5;28;01mfinally\u001b[39;00m:\n\u001b[0;32m---> 34\u001b[0m     \u001b[43mtime\u001b[49m\u001b[38;5;241;43m.\u001b[39;49m\u001b[43msleep\u001b[49m\u001b[43m(\u001b[49m\u001b[38;5;241;43m5\u001b[39;49m\u001b[43m)\u001b[49m\n",
      "\u001b[0;31mKeyboardInterrupt\u001b[0m: "
     ]
    }
   ],
   "source": [
    "proxy_info = get_next_proxy()\n",
    "logger_.info(f\"Using proxy {proxy_info.protocol}://{proxy_info.ip}:{proxy_info.port}\")\n",
    "\n",
    "N_SITES = 30\n",
    "if MODE == ScraperNotebookMode.WRITE:\n",
    "    for _, coin in coins.iterrows():\n",
    "        for subreddit in subreddits:\n",
    "            scrape_successfull = False\n",
    "            while not scrape_successfull:\n",
    "                try:\n",
    "                    logger_.info(f\"Scraping {coin['Coin Name']} in {subreddit}\")\n",
    "                    query = f\"{coin['Coin Name']} {coin[\"Alternative Name\"] if not pd.isna(coin[\"Alternative Name\"]) else \"\"} {coin[\"Short Name\"]} site:reddit.com/{subreddit} {\"before:\" + coin['Scam Date'] if not pd.isna(coin['Scam Date']) else \"\"} {\"after:\" + coin['Start Date'] if not pd.isna(coin['Start Date']) else \"\"}\"\n",
    "                    query = query.replace(\"  \", \" \")\n",
    "                    logger_.debug(f\"Query: {query}\")\n",
    "                    scraper = GoogleResultsScraper(logger=logger_)\n",
    "                    results = scraper.get_main_results(\n",
    "                        query,\n",
    "                        n_sites=N_SITES,\n",
    "                        headless=False,\n",
    "                        proxy_protocol=proxy_info.protocol,\n",
    "                        proxy_address=f\"{proxy_info.ip}:{proxy_info.port}\",\n",
    "                    )\n",
    "                    insert_dict(\n",
    "                        logger=logger_, index=\"reddit_metadata\", data_dict=results\n",
    "                    )\n",
    "                    scrape_successfull = True\n",
    "                except (DetectedBotException, ProxyNotWorking) as e:\n",
    "                    logger_.warning(\"Detected bot or proxy not working\")\n",
    "                    proxy_info = get_next_proxy()\n",
    "                    logger_.info(\n",
    "                        f\"Using proxy {proxy_info.protocol}://{proxy_info.ip}:{proxy_info.port}\"\n",
    "                    )\n",
    "                finally:\n",
    "                    time.sleep(5)"
   ]
  }
 ],
 "metadata": {
  "kernelspec": {
   "display_name": "Python 3",
   "language": "python",
   "name": "python3"
  },
  "language_info": {
   "codemirror_mode": {
    "name": "ipython",
    "version": 3
   },
   "file_extension": ".py",
   "mimetype": "text/x-python",
   "name": "python",
   "nbconvert_exporter": "python",
   "pygments_lexer": "ipython3",
   "version": "3.12.7"
  }
 },
 "nbformat": 4,
 "nbformat_minor": 4
}
