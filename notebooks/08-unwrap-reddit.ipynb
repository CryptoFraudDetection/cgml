{
 "cells": [
  {
   "cell_type": "code",
   "execution_count": 1,
   "metadata": {},
   "outputs": [],
   "source": [
    "import pandas as pd\n",
    "from tqdm import tqdm\n",
    "from CryptoFraudDetection.elasticsearch.data_retrieval import search_data"
   ]
  },
  {
   "cell_type": "code",
   "execution_count": 2,
   "metadata": {},
   "outputs": [],
   "source": [
    "response = search_data(index=\"reddit_posts_2\", q=\"*\", size=6000)"
   ]
  },
  {
   "cell_type": "code",
   "execution_count": 3,
   "metadata": {},
   "outputs": [],
   "source": [
    "# Recursive function to flatten comments with parent_id\n",
    "def flatten_comments(comments, parent_id):\n",
    "    rows = []\n",
    "    for comment in comments:\n",
    "        # Extract comment details\n",
    "        rows.append(\n",
    "            {\n",
    "                \"id\": comment[\"id\"],\n",
    "                \"parent_id\": parent_id,\n",
    "                \"author\": comment[\"author\"],\n",
    "                \"body\": comment[\"body\"],\n",
    "                \"created\": comment[\"created\"],\n",
    "                \"depth\": comment[\"depth\"],\n",
    "                \"downs\": comment[\"downs\"],\n",
    "                \"edited\": comment[\"edited\"],\n",
    "                \"score\": comment[\"score\"],\n",
    "                \"subreddit\": comment[\"subreddit\"],\n",
    "                \"ups\": comment[\"ups\"],\n",
    "            }\n",
    "        )\n",
    "        # If the comment has nested replies, process them recursively\n",
    "        if comment.get(\"comments\"):\n",
    "            rows.extend(flatten_comments(comment[\"comments\"], parent_id=comment[\"id\"]))\n",
    "    return rows\n",
    "\n",
    "\n",
    "# Function to flatten the entire JSON structure\n",
    "def flatten_json(json_data):\n",
    "    # Extract submission data\n",
    "    submission = {\n",
    "        \"id\": json_data[\"id\"],\n",
    "        \"parent_id\": None,\n",
    "        \"author\": json_data[\"author\"],\n",
    "        \"body\": json_data[\"body\"],\n",
    "        \"created\": json_data[\"created\"],\n",
    "        \"depth\": json_data[\"depth\"],\n",
    "        \"downs\": json_data[\"downs\"],\n",
    "        \"edited\": json_data[\"edited\"],\n",
    "        \"score\": json_data[\"score\"],\n",
    "        \"subreddit\": json_data[\"subreddit\"],\n",
    "        \"ups\": json_data[\"ups\"],\n",
    "        \"title\": json_data[\"title\"],  # Specific to submission\n",
    "        \"url\": json_data[\"url\"],  # Specific to submission\n",
    "        \"num_comments\": json_data[\"num_comments\"],  # Specific to submission\n",
    "    }\n",
    "\n",
    "    # Flatten comments\n",
    "    comments = flatten_comments(json_data[\"comments\"], parent_id=json_data[\"id\"])\n",
    "\n",
    "    # Combine submission and comments into a single dataset\n",
    "    all_data = [submission] + comments\n",
    "\n",
    "    # Convert to DataFrame\n",
    "    return pd.DataFrame(all_data)"
   ]
  },
  {
   "cell_type": "code",
   "execution_count": 4,
   "metadata": {},
   "outputs": [
    {
     "name": "stderr",
     "output_type": "stream",
     "text": [
      "100%|██████████| 5193/5193 [01:53<00:00, 45.90it/s] \n"
     ]
    }
   ],
   "source": [
    "df = pd.DataFrame()\n",
    "for post in tqdm(response[\"hits\"][\"hits\"]):\n",
    "    if df.empty:\n",
    "        df = flatten_json(post[\"_source\"])\n",
    "    else:\n",
    "        df = pd.concat([df, flatten_json(post[\"_source\"])])"
   ]
  },
  {
   "cell_type": "code",
   "execution_count": 5,
   "metadata": {},
   "outputs": [],
   "source": [
    "df = df.drop(columns=[\"ups\", \"downs\"])\n",
    "df = df.convert_dtypes()"
   ]
  },
  {
   "cell_type": "code",
   "execution_count": 6,
   "metadata": {},
   "outputs": [
    {
     "data": {
      "text/plain": [
       "(432655, 12)"
      ]
     },
     "execution_count": 6,
     "metadata": {},
     "output_type": "execute_result"
    }
   ],
   "source": [
    "df.shape"
   ]
  },
  {
   "cell_type": "code",
   "execution_count": 7,
   "metadata": {},
   "outputs": [],
   "source": [
    "df.to_parquet(\"../data/processed/reddit_posts_2.parquet\", index=False)"
   ]
  }
 ],
 "metadata": {
  "kernelspec": {
   "display_name": "Python 3",
   "language": "python",
   "name": "python3"
  },
  "language_info": {
   "codemirror_mode": {
    "name": "ipython",
    "version": 3
   },
   "file_extension": ".py",
   "mimetype": "text/x-python",
   "name": "python",
   "nbconvert_exporter": "python",
   "pygments_lexer": "ipython3",
   "version": "3.12.7"
  }
 },
 "nbformat": 4,
 "nbformat_minor": 2
}
