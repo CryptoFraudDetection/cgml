{
 "cells": [
  {
   "cell_type": "code",
   "execution_count": 1,
   "metadata": {},
   "outputs": [],
   "source": [
    "import pandas as pd\n",
    "from tqdm import tqdm\n",
    "\n",
    "from CryptoFraudDetection.utils.enums import LoggerMode\n",
    "from CryptoFraudDetection.utils.logger import Logger\n",
    "from CryptoFraudDetection.elasticsearch.data_retrieval import search_data\n",
    "from CryptoFraudDetection.elasticsearch.data_insertion import insert_dataframe"
   ]
  },
  {
   "cell_type": "code",
   "execution_count": 2,
   "metadata": {},
   "outputs": [],
   "source": [
    "response = search_data(index=\"reddit_posts_2\", q=\"*\", size=6000)"
   ]
  },
  {
   "cell_type": "code",
   "execution_count": 3,
   "metadata": {},
   "outputs": [],
   "source": [
    "# Recursive function to flatten comments with parent_id\n",
    "def flatten_comments(comments, parent_id):\n",
    "    rows = []\n",
    "    for comment in comments:\n",
    "        # Extract comment details\n",
    "        rows.append(\n",
    "            {\n",
    "                \"id\": comment[\"id\"],\n",
    "                \"parent_id\": parent_id,\n",
    "                \"author\": comment[\"author\"],\n",
    "                \"body\": comment[\"body\"],\n",
    "                \"created\": comment[\"created\"],\n",
    "                \"depth\": comment[\"depth\"],\n",
    "                \"edited\": comment[\"edited\"],\n",
    "                \"score\": comment[\"score\"],\n",
    "                \"search_query\": comment[\"search_query\"],\n",
    "                \"subreddit\": comment[\"subreddit\"],\n",
    "            }\n",
    "        )\n",
    "        # If the comment has nested replies, process them recursively\n",
    "        if comment.get(\"comments\"):\n",
    "            rows.extend(flatten_comments(comment[\"comments\"], parent_id=comment[\"id\"]))\n",
    "    return rows\n",
    "\n",
    "\n",
    "# Function to flatten the entire JSON structure\n",
    "def flatten_json(json_data):\n",
    "    # Extract submission data\n",
    "    submission = {\n",
    "        \"id\": json_data[\"id\"],\n",
    "        \"parent_id\": None,\n",
    "        \"author\": json_data[\"author\"],\n",
    "        \"body\": json_data[\"body\"],\n",
    "        \"created\": json_data[\"created\"],\n",
    "        \"depth\": json_data[\"depth\"],\n",
    "        \"edited\": json_data[\"edited\"],\n",
    "        \"score\": json_data[\"score\"],\n",
    "        \"search_query\": json_data[\"search_query\"],\n",
    "        \"subreddit\": json_data[\"subreddit\"],\n",
    "        \"title\": json_data[\"title\"],  # Specific to submission\n",
    "        \"url\": json_data[\"url\"],  # Specific to submission\n",
    "        \"num_comments\": json_data[\"num_comments\"],  # Specific to submission\n",
    "    }\n",
    "\n",
    "    # Flatten comments\n",
    "    comments = flatten_comments(json_data[\"comments\"], parent_id=json_data[\"id\"])\n",
    "\n",
    "    # Combine submission and comments into a single dataset\n",
    "    all_data = [submission] + comments\n",
    "\n",
    "    # Convert to DataFrame\n",
    "    return pd.DataFrame(all_data)"
   ]
  },
  {
   "cell_type": "code",
   "execution_count": 4,
   "metadata": {},
   "outputs": [
    {
     "name": "stderr",
     "output_type": "stream",
     "text": [
      "100%|██████████| 5193/5193 [02:06<00:00, 41.08it/s] \n"
     ]
    }
   ],
   "source": [
    "df = pd.DataFrame()\n",
    "for post in tqdm(response[\"hits\"][\"hits\"]):\n",
    "    if df.empty:\n",
    "        df = flatten_json(post[\"_source\"])\n",
    "    else:\n",
    "        df = pd.concat([df, flatten_json(post[\"_source\"])])\n",
    "\n",
    "df = df.convert_dtypes()"
   ]
  },
  {
   "cell_type": "code",
   "execution_count": 5,
   "metadata": {},
   "outputs": [
    {
     "data": {
      "text/plain": [
       "(432655, 13)"
      ]
     },
     "execution_count": 5,
     "metadata": {},
     "output_type": "execute_result"
    }
   ],
   "source": [
    "df.shape"
   ]
  },
  {
   "cell_type": "code",
   "execution_count": 6,
   "metadata": {},
   "outputs": [
    {
     "data": {
      "text/html": [
       "<div>\n",
       "<style scoped>\n",
       "    .dataframe tbody tr th:only-of-type {\n",
       "        vertical-align: middle;\n",
       "    }\n",
       "\n",
       "    .dataframe tbody tr th {\n",
       "        vertical-align: top;\n",
       "    }\n",
       "\n",
       "    .dataframe thead th {\n",
       "        text-align: right;\n",
       "    }\n",
       "</style>\n",
       "<table border=\"1\" class=\"dataframe\">\n",
       "  <thead>\n",
       "    <tr style=\"text-align: right;\">\n",
       "      <th></th>\n",
       "      <th>id</th>\n",
       "      <th>parent_id</th>\n",
       "      <th>author</th>\n",
       "      <th>body</th>\n",
       "      <th>created</th>\n",
       "      <th>depth</th>\n",
       "      <th>edited</th>\n",
       "      <th>score</th>\n",
       "      <th>search_query</th>\n",
       "      <th>subreddit</th>\n",
       "      <th>title</th>\n",
       "      <th>url</th>\n",
       "      <th>num_comments</th>\n",
       "    </tr>\n",
       "  </thead>\n",
       "  <tbody>\n",
       "    <tr>\n",
       "      <th>0</th>\n",
       "      <td>1fz46jo</td>\n",
       "      <td>&lt;NA&gt;</td>\n",
       "      <td>writtey</td>\n",
       "      <td></td>\n",
       "      <td>2024-10-08 16:36:10</td>\n",
       "      <td>-1</td>\n",
       "      <td>&lt;NA&gt;</td>\n",
       "      <td>257</td>\n",
       "      <td>Ethereum ETH</td>\n",
       "      <td>r/CryptoCurrency</td>\n",
       "      <td>This User Paid $700K for a Single Ethereum Tra...</td>\n",
       "      <td>https://cointab.com/user-paid-700k-ethereum-tr...</td>\n",
       "      <td>137</td>\n",
       "    </tr>\n",
       "    <tr>\n",
       "      <th>1</th>\n",
       "      <td>lqyulca</td>\n",
       "      <td>1fz46jo</td>\n",
       "      <td>Baecchus</td>\n",
       "      <td>Average gas fee back in 2021</td>\n",
       "      <td>2024-10-08 17:15:39</td>\n",
       "      <td>0</td>\n",
       "      <td>&lt;NA&gt;</td>\n",
       "      <td>208</td>\n",
       "      <td>Ethereum ETH</td>\n",
       "      <td>r/CryptoCurrency</td>\n",
       "      <td>&lt;NA&gt;</td>\n",
       "      <td>&lt;NA&gt;</td>\n",
       "      <td>&lt;NA&gt;</td>\n",
       "    </tr>\n",
       "    <tr>\n",
       "      <th>2</th>\n",
       "      <td>lqzv2yy</td>\n",
       "      <td>lqyulca</td>\n",
       "      <td>partymsl</td>\n",
       "      <td>Ah. The good old forced hodl days due to gas f...</td>\n",
       "      <td>2024-10-08 20:38:34</td>\n",
       "      <td>1</td>\n",
       "      <td>&lt;NA&gt;</td>\n",
       "      <td>39</td>\n",
       "      <td>Ethereum ETH</td>\n",
       "      <td>r/CryptoCurrency</td>\n",
       "      <td>&lt;NA&gt;</td>\n",
       "      <td>&lt;NA&gt;</td>\n",
       "      <td>&lt;NA&gt;</td>\n",
       "    </tr>\n",
       "    <tr>\n",
       "      <th>3</th>\n",
       "      <td>lr09t08</td>\n",
       "      <td>lqzv2yy</td>\n",
       "      <td>itsaBazinga</td>\n",
       "      <td>I always had the StarCraft we require more ves...</td>\n",
       "      <td>2024-10-08 22:06:13</td>\n",
       "      <td>2</td>\n",
       "      <td>&lt;NA&gt;</td>\n",
       "      <td>20</td>\n",
       "      <td>Ethereum ETH</td>\n",
       "      <td>r/CryptoCurrency</td>\n",
       "      <td>&lt;NA&gt;</td>\n",
       "      <td>&lt;NA&gt;</td>\n",
       "      <td>&lt;NA&gt;</td>\n",
       "    </tr>\n",
       "    <tr>\n",
       "      <th>4</th>\n",
       "      <td>lr0jjil</td>\n",
       "      <td>lr09t08</td>\n",
       "      <td>Atyzzze</td>\n",
       "      <td>You must construct additional pylons! (stake a...</td>\n",
       "      <td>2024-10-08 23:12:21</td>\n",
       "      <td>3</td>\n",
       "      <td>&lt;NA&gt;</td>\n",
       "      <td>6</td>\n",
       "      <td>Ethereum ETH</td>\n",
       "      <td>r/CryptoCurrency</td>\n",
       "      <td>&lt;NA&gt;</td>\n",
       "      <td>&lt;NA&gt;</td>\n",
       "      <td>&lt;NA&gt;</td>\n",
       "    </tr>\n",
       "  </tbody>\n",
       "</table>\n",
       "</div>"
      ],
      "text/plain": [
       "        id parent_id       author  \\\n",
       "0  1fz46jo      <NA>      writtey   \n",
       "1  lqyulca   1fz46jo     Baecchus   \n",
       "2  lqzv2yy   lqyulca     partymsl   \n",
       "3  lr09t08   lqzv2yy  itsaBazinga   \n",
       "4  lr0jjil   lr09t08      Atyzzze   \n",
       "\n",
       "                                                body              created  \\\n",
       "0                                                     2024-10-08 16:36:10   \n",
       "1                       Average gas fee back in 2021  2024-10-08 17:15:39   \n",
       "2  Ah. The good old forced hodl days due to gas f...  2024-10-08 20:38:34   \n",
       "3  I always had the StarCraft we require more ves...  2024-10-08 22:06:13   \n",
       "4  You must construct additional pylons! (stake a...  2024-10-08 23:12:21   \n",
       "\n",
       "   depth edited  score  search_query         subreddit  \\\n",
       "0     -1   <NA>    257  Ethereum ETH  r/CryptoCurrency   \n",
       "1      0   <NA>    208  Ethereum ETH  r/CryptoCurrency   \n",
       "2      1   <NA>     39  Ethereum ETH  r/CryptoCurrency   \n",
       "3      2   <NA>     20  Ethereum ETH  r/CryptoCurrency   \n",
       "4      3   <NA>      6  Ethereum ETH  r/CryptoCurrency   \n",
       "\n",
       "                                               title  \\\n",
       "0  This User Paid $700K for a Single Ethereum Tra...   \n",
       "1                                               <NA>   \n",
       "2                                               <NA>   \n",
       "3                                               <NA>   \n",
       "4                                               <NA>   \n",
       "\n",
       "                                                 url  num_comments  \n",
       "0  https://cointab.com/user-paid-700k-ethereum-tr...           137  \n",
       "1                                               <NA>          <NA>  \n",
       "2                                               <NA>          <NA>  \n",
       "3                                               <NA>          <NA>  \n",
       "4                                               <NA>          <NA>  "
      ]
     },
     "execution_count": 6,
     "metadata": {},
     "output_type": "execute_result"
    }
   ],
   "source": [
    "df.head()"
   ]
  },
  {
   "cell_type": "code",
   "execution_count": 7,
   "metadata": {},
   "outputs": [],
   "source": [
    "df.to_parquet(\"../data/processed/reddit_posts_2.parquet\", index=False)"
   ]
  },
  {
   "cell_type": "code",
   "execution_count": 10,
   "metadata": {},
   "outputs": [],
   "source": [
    "logger_ = Logger(\n",
    "    name=\"reddit_unwrap_posts\", level=LoggerMode.DEBUG, log_dir=\"../logs\"\n",
    ")\n",
    "\n",
    "_ = insert_dataframe(logger=logger_, index=\"reddit_posts_unwrapped_2\", df=df)"
   ]
  }
 ],
 "metadata": {
  "kernelspec": {
   "display_name": "Python 3",
   "language": "python",
   "name": "python3"
  },
  "language_info": {
   "codemirror_mode": {
    "name": "ipython",
    "version": 3
   },
   "file_extension": ".py",
   "mimetype": "text/x-python",
   "name": "python",
   "nbconvert_exporter": "python",
   "pygments_lexer": "ipython3",
   "version": "3.12.7"
  }
 },
 "nbformat": 4,
 "nbformat_minor": 2
}
