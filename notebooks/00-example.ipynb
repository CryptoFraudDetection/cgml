{
  "cells": [
    {
      "cell_type": "markdown",
      "metadata": {},
      "source": [
        "---\n",
        "title: \"Example Notebook\"\n",
        "format:\n",
        "  typst:\n",
        "    margin:\n",
        "      x: 1cm\n",
        "      y: 1cm\n",
        "    papersize: a4\n",
        "    number-sections: true\n",
        "    toc: false\n",
        "    section-numbering: 1.1.a.\n",
        "    columns: 1\n",
        "    mainfont: \"Helvetica\"\n",
        "    fontsize: 11pt\n",
        "number-sections: true\n",
        "lang: en\n",
        "---\n",
        "\n",
        "Hier importieren wir die Bibliothek und rufen die Funktion `get_hello_world` auf."
      ]
    },
    {
      "cell_type": "code",
      "metadata": {},
      "source": [
        "import CryptoFraudDetection\n",
        "CryptoFraudDetection.utils.misc.get_hello_world()"
      ],
      "execution_count": null,
      "outputs": []
    },
    {
      "cell_type": "markdown",
      "metadata": {},
      "source": [
        "Alternativ können wir die Funktion auch direkt importieren."
      ]
    },
    {
      "cell_type": "code",
      "metadata": {},
      "source": [
        "from CryptoFraudDetection.utils.misc import *\n",
        "get_hello_world()"
      ],
      "execution_count": null,
      "outputs": []
    }
  ],
  "metadata": {
    "kernelspec": {
      "name": "python3",
      "language": "python",
      "display_name": "Python 3 (ipykernel)",
      "path": "/Users/gabriel.torres/dev/com.github/CryptoFraudDetection/main/.venv/share/jupyter/kernels/python3"
    }
  },
  "nbformat": 4,
  "nbformat_minor": 4
}