{
  "cells": [
    {
      "cell_type": "markdown",
      "metadata": {},
      "source": [
        "---\n",
        "title: \"Example Notebook\"\n",
        "format:\n",
        "  typst:\n",
        "    margin:\n",
        "      x: 1cm\n",
        "      y: 1cm\n",
        "    papersize: a4\n",
        "    number-sections: true\n",
        "    toc: false\n",
        "    section-numbering: 1.1.a.\n",
        "    columns: 1\n",
        "    mainfont: \"Helvetica\"\n",
        "    fontsize: 11pt\n",
        "number-sections: true\n",
        "lang: en\n",
        "---\n",
        "\n",
        "Hier importieren wir die Bibliothek und rufen die Funktion `get_hello_world` auf."
      ]
    },
    {
      "cell_type": "markdown",
      "metadata": {},
      "source": [
        "Alternativ können wir die Funktion auch direkt importieren."
      ]
    },
    {
      "cell_type": "code",
      "execution_count": 2,
      "metadata": {},
      "outputs": [
        {
          "data": {
            "text/plain": [
              "'Hello, World!'"
            ]
          },
          "execution_count": 2,
          "metadata": {},
          "output_type": "execute_result"
        }
      ],
      "source": [
        "from CryptoFraudDetection.utils.misc import *\n",
        "\n",
        "get_hello_world()"
      ]
    }
  ],
  "metadata": {
    "kernelspec": {
      "display_name": ".venv",
      "language": "python",
      "name": "python3"
    },
    "language_info": {
      "codemirror_mode": {
        "name": "ipython",
        "version": 3
      },
      "file_extension": ".py",
      "mimetype": "text/x-python",
      "name": "python",
      "nbconvert_exporter": "python",
      "pygments_lexer": "ipython3",
      "version": "3.12.8"
    }
  },
  "nbformat": 4,
  "nbformat_minor": 4
}
