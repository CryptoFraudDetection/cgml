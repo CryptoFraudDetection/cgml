{
  "cells": [
    {
      "cell_type": "markdown",
      "metadata": {},
      "source": [
        "---\n",
        "jupyter: python3\n",
        "title: Scrape Reddit Posts\n",
        "---\n"
      ]
    },
    {
      "cell_type": "code",
      "metadata": {},
      "source": [
        "import pandas as pd\n",
        "import matplotlib.pyplot as plt\n",
        "import yfinance as yf"
      ],
      "execution_count": null,
      "outputs": []
    },
    {
      "cell_type": "code",
      "metadata": {},
      "source": [
        "df = pd.read_parquet(\"../data/processed/reddit_posts_2.parquet\")"
      ],
      "execution_count": null,
      "outputs": []
    },
    {
      "cell_type": "code",
      "metadata": {},
      "source": [
        "df.head(5)"
      ],
      "execution_count": null,
      "outputs": []
    },
    {
      "cell_type": "code",
      "metadata": {},
      "source": [
        "df['created'] = pd.to_datetime(df['created'])\n",
        "\n",
        "df['date'] = df['created'].dt.date\n",
        "grouped = df.groupby(['date', 'search_query']).size().reset_index(name='count')\n",
        "\n",
        "\n",
        "pivot_df = grouped.pivot(index='date', columns='search_query', values='count').fillna(0)"
      ],
      "execution_count": null,
      "outputs": []
    },
    {
      "cell_type": "code",
      "metadata": {},
      "source": [
        "def plot_pivot_df(pivot_df):\n",
        "    num_plots = len(pivot_df.columns)\n",
        "    fig, axes = plt.subplots(\n",
        "        nrows=num_plots, ncols=1, figsize=(10, num_plots * 3), sharex=True\n",
        "    )\n",
        "\n",
        "    \n",
        "    if num_plots == 1:\n",
        "        axes = [axes]\n",
        "\n",
        "    for idx, (query, data) in enumerate(pivot_df.items()):\n",
        "        ax = axes[idx]\n",
        "        ax.plot(data.index, data.values, label=query)\n",
        "        ax.set_title(f\"Search Query: {query}\")\n",
        "        ax.set_ylabel('Anzahl der Einträge')\n",
        "        ax.legend(loc='upper left')\n",
        "        ax.grid(True)\n",
        "\n",
        "    plt.xlabel('Datum')\n",
        "    plt.tight_layout()\n",
        "    plt.show()\n",
        "\n",
        "\n",
        "plot_pivot_df(pivot_df)"
      ],
      "execution_count": null,
      "outputs": []
    },
    {
      "cell_type": "code",
      "metadata": {},
      "source": [
        "exclude_coins_testset = ['Ethereum', 'Cosmos', 'FTX Token', 'Safe Moon']\n",
        "\n",
        "filtered_queries = [query for query in pivot_df.columns if query not in exclude_coins_testset]\n",
        "\n",
        "print(\"Coins ohne testset: \"  + filtered_queries)"
      ],
      "execution_count": null,
      "outputs": []
    },
    {
      "cell_type": "code",
      "metadata": {},
      "source": [
        "# mapp coins for yfinance\n",
        "ticker_mapping = {\n",
        "    'Avalanche': 'AVAX-USD',\n",
        "    'BeerCoin': None,          # BeerCoin not on yfinance\n",
        "    'BitForex': None,          # BitForex no coin\n",
        "    'Bitcoin': 'BTC-USD',\n",
        "    'ChainLink': 'LINK-USD',\n",
        "    'THORChain': 'RUNE-USD',\n",
        "    'Teddy Doge': None,        # not found\n",
        "    'Terra Luna': 'LUNA-USD' \n",
        "}\n",
        "\n",
        "available_queries = [query for query in filtered_queries if ticker_mapping.get(query) is not None]\n",
        "print(\"Verfügbare Suchanfragen mit Tickersymbolen:\", available_queries)"
      ],
      "execution_count": null,
      "outputs": []
    },
    {
      "cell_type": "code",
      "metadata": {},
      "source": [
        "# save coindata from yfinance\n",
        "coin_data_dict = {}\n",
        "\n",
        "for query in available_queries:\n",
        "    ticker = ticker_mapping[query]\n",
        "    try:\n",
        "        data = pivot_df[query]\n",
        "        start_date = min(data.index).strftime('%Y-%m-%d')\n",
        "        end_date = max(data.index).strftime('%Y-%m-%d')\n",
        "        coin_data = yf.download(ticker, start=start_date, end=end_date)\n",
        "        if not coin_data.empty:\n",
        "            coin_data_dict[query] = coin_data\n",
        "        else:\n",
        "            coin_data_dict[query] = None  \n",
        "    except Exception as e:\n",
        "        coin_data_dict[query] = None"
      ],
      "execution_count": null,
      "outputs": []
    },
    {
      "cell_type": "code",
      "metadata": {},
      "source": [
        "num_queries = len(available_queries)\n",
        "fig, axes = plt.subplots(nrows=num_queries, ncols=2, figsize=(15, num_queries * 4), sharex='col')\n",
        "\n",
        "for idx, query in enumerate(available_queries):\n",
        "    data = pivot_df[query]\n",
        "    # Subplot 1: Anzahl der Einträge\n",
        "    if num_queries > 1:\n",
        "        ax1 = axes[idx, 0]\n",
        "    else:\n",
        "        ax1 = axes[0]\n",
        "    ax1.plot(data.index, data.values, label=f'Einträge: {query}')\n",
        "    ax1.set_title(f\"Suchanfrage: {query} - Anzahl der Einträge\")\n",
        "    ax1.set_ylabel('Anzahl der Einträge')\n",
        "    ax1.legend(loc='upper left')\n",
        "    ax1.grid(True)\n",
        "\n",
        "    # Subplot 2: Historische Preise (Coin-Daten)\n",
        "    if num_queries > 1:\n",
        "        ax2 = axes[idx, 1]\n",
        "    else:\n",
        "        ax2 = axes[1]\n",
        "    coin_data = coin_data_dict.get(query)\n",
        "    if coin_data is not None:\n",
        "        ax2.plot(coin_data.index, coin_data['Close'], label=f'{query} Preis')\n",
        "        ax2.set_title(f\"Suchanfrage: {query} - Historische Preise\")\n",
        "        ax2.set_ylabel('Preis (USD)')\n",
        "        ax2.legend(loc='upper left')\n",
        "        ax2.grid(True)\n",
        "    else:\n",
        "        ax2.text(0.5, 0.5, f'Keine Preisdaten für {query}', ha='center', va='center', transform=ax2.transAxes)\n",
        "        ax2.set_title(f\"Suchanfrage: {query} - Keine Preisdaten verfügbar\")\n",
        "        ax2.set_xticks([])\n",
        "        ax2.set_yticks([])\n",
        "\n",
        "# Gemeinsame X-Achse\n",
        "plt.xlabel('Datum')\n",
        "plt.tight_layout()\n",
        "plt.show()"
      ],
      "execution_count": null,
      "outputs": []
    }
  ],
  "metadata": {
    "kernelspec": {
      "name": "python3",
      "language": "python",
      "display_name": "Python 3 (ipykernel)",
      "path": "/Users/gabriel.torres/dev/com.github/CryptoFraudDetection/main/.venv/share/jupyter/kernels/python3"
    }
  },
  "nbformat": 4,
  "nbformat_minor": 4
}